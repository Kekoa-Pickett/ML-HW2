{
  "cells": [
    {
      "cell_type": "markdown",
      "metadata": {
        "id": "view-in-github",
        "colab_type": "text"
      },
      "source": [
        "<a href=\"https://colab.research.google.com/github/Kekoa-Pickett/ML-HW2/blob/main/hw5.ipynb\" target=\"_parent\"><img src=\"https://colab.research.google.com/assets/colab-badge.svg\" alt=\"Open In Colab\"/></a>"
      ]
    },
    {
      "cell_type": "markdown",
      "metadata": {
        "id": "dhTEdM56b3-n"
      },
      "source": [
        "### Download the data\n",
        "Let's download and uncompress our data and images here:"
      ]
    },
    {
      "cell_type": "code",
      "execution_count": 1,
      "metadata": {
        "colab": {
          "base_uri": "https://localhost:8080/",
          "height": 35
        },
        "id": "gMPNGHDXbxEw",
        "outputId": "122811d8-a2f9-4e98-b84b-47e560e1314f"
      },
      "outputs": [
        {
          "output_type": "display_data",
          "data": {
            "text/plain": [
              "'Linux'"
            ],
            "application/vnd.google.colaboratory.intrinsic+json": {
              "type": "string"
            }
          },
          "metadata": {}
        }
      ],
      "source": [
        "import platform\n",
        "display(platform.system())\n",
        "import os\n",
        "file_download_link = 'https://www.dropbox.com/scl/fi/x4vhkglosags3qmg4h0p2/hw3data.zip?rlkey=kke6onzuc2rajohgislutjgg7&dl=0'\n",
        "if os.name == 'nt':\n",
        "    print('Please download your dataset here:', file_download_link)\n",
        "else:\n",
        "    # We need to first download the data here:\n",
        "    !wget -O data.zip \"$file_download_link\" -o /dev/null\n",
        "    !unzip data.zip > /dev/null"
      ]
    },
    {
      "cell_type": "code",
      "execution_count": 2,
      "metadata": {
        "id": "k8pzndEXoGoF"
      },
      "outputs": [],
      "source": [
        "# If your data is on google drive then uncomment the code below to access\n",
        "# your google drive.\n",
        "#from google.colab import drive\n",
        "#drive.mount('/content/drive')"
      ]
    },
    {
      "cell_type": "markdown",
      "metadata": {
        "id": "PUrkSv1vSaRQ"
      },
      "source": [
        "## Running Tensorflow Keras on our Titanic dataset (25 points)\n",
        "[tf.keras.models](https://www.tensorflow.org/api_docs/python/tf/keras/Model), [tf.keras.layers](https://www.tensorflow.org/api_docs/python/tf/keras/layers/Layer)\n",
        "### Q1: We will now implement customization via Keras. Be creative building you NN.\n",
        "Make sure you set the verbose parameter to 0 when you train your model. Not doing so will result in your TA's being unable to grade your submission.\n",
        "You can use history to plot your Loss/Metrics.\n",
        "Make sure you generate a Loss/Metrics plot for each question."
      ]
    },
    {
      "cell_type": "code",
      "execution_count": 3,
      "metadata": {
        "id": "qwAdEE9sSwUH"
      },
      "outputs": [],
      "source": [
        "# Prerequisite library imports\n",
        "import pandas as pd\n",
        "import tensorflow as tf\n",
        "from sklearn.model_selection import train_test_split\n",
        "from tensorflow import keras\n",
        "from keras.models import Sequential\n",
        "from keras.layers import Dense\n",
        "\n",
        "# Let's reimport our data\n",
        "df = pd.read_csv('./data/titanic/train_data.csv')\n",
        "X = df.drop(['Unnamed: 0', 'PassengerId'], axis=1)\n",
        "y = df['Survived']\n",
        "X = X.drop(columns = 'Survived')"
      ]
    },
    {
      "cell_type": "markdown",
      "metadata": {
        "id": "LVC85pIxYnae"
      },
      "source": [
        "### 1.1) Based on the imports above we will use those keras libraries to build our models. Here we want to implement a form of scaling to your data either minmax normalization or standardization using the sklearn.preprocessing libraries. Justify why you chose one over the other. Is this classfication or regression? Then make a basic neural network, you will compare the performance of this basic network to ones you develop later (10 points)"
      ]
    },
    {
      "cell_type": "markdown",
      "metadata": {
        "id": "_I8JzfHvOSQv"
      },
      "source": [
        "**Answer:** I am using minmax normalization because the data isn't split evenly so we don't have a normal distribution. This is a classification problem because either people survived or they didn't, no continuous inputs."
      ]
    },
    {
      "cell_type": "code",
      "execution_count": 4,
      "metadata": {
        "id": "xKhAcFmxs5es",
        "colab": {
          "base_uri": "https://localhost:8080/",
          "height": 53
        },
        "outputId": "55879203-bb0b-4595-ec91-089ac48a2a6c"
      },
      "outputs": [
        {
          "output_type": "display_data",
          "data": {
            "text/plain": [
              "(633, 14)"
            ]
          },
          "metadata": {}
        },
        {
          "output_type": "display_data",
          "data": {
            "text/plain": [
              "(633,)"
            ]
          },
          "metadata": {}
        }
      ],
      "source": [
        "X_train, X_test, y_train, y_test = train_test_split(X, y, test_size=0.2, random_state=21)\n",
        "display(X_train.shape)\n",
        "display(y_train.shape)"
      ]
    },
    {
      "cell_type": "code",
      "execution_count": 5,
      "metadata": {
        "colab": {
          "base_uri": "https://localhost:8080/",
          "height": 53
        },
        "id": "Nx20c4BOPLLt",
        "outputId": "65d544e8-f517-482d-fad9-1b32030dda12"
      },
      "outputs": [
        {
          "output_type": "display_data",
          "data": {
            "text/plain": [
              "(633, 14)"
            ]
          },
          "metadata": {}
        },
        {
          "output_type": "display_data",
          "data": {
            "text/plain": [
              "(633,)"
            ]
          },
          "metadata": {}
        }
      ],
      "source": [
        "# Please do your scalarization of X here: (after train test split).\n",
        "# Scalarization means normalizing or standardizing\n",
        "import sklearn.preprocessing\n",
        "from sklearn.preprocessing import MinMaxScaler\n",
        "\n",
        "scaler = MinMaxScaler()\n",
        "X_train = scaler.fit_transform(X_train)\n",
        "X_test = scaler.transform(X_test)\n",
        "display(X_train.shape)\n",
        "display(y_train.shape)\n"
      ]
    },
    {
      "cell_type": "code",
      "source": [
        "!pip install scikeras"
      ],
      "metadata": {
        "collapsed": true,
        "colab": {
          "base_uri": "https://localhost:8080/"
        },
        "id": "276S4WI3TuFk",
        "outputId": "52e1fd52-27c3-4f9d-9c4b-c7bfd7c33df2"
      },
      "execution_count": 6,
      "outputs": [
        {
          "output_type": "stream",
          "name": "stdout",
          "text": [
            "Collecting scikeras\n",
            "  Downloading scikeras-0.13.0-py3-none-any.whl.metadata (3.1 kB)\n",
            "Requirement already satisfied: keras>=3.2.0 in /usr/local/lib/python3.10/dist-packages (from scikeras) (3.5.0)\n",
            "Requirement already satisfied: scikit-learn>=1.4.2 in /usr/local/lib/python3.10/dist-packages (from scikeras) (1.5.2)\n",
            "Requirement already satisfied: absl-py in /usr/local/lib/python3.10/dist-packages (from keras>=3.2.0->scikeras) (1.4.0)\n",
            "Requirement already satisfied: numpy in /usr/local/lib/python3.10/dist-packages (from keras>=3.2.0->scikeras) (1.26.4)\n",
            "Requirement already satisfied: rich in /usr/local/lib/python3.10/dist-packages (from keras>=3.2.0->scikeras) (13.9.4)\n",
            "Requirement already satisfied: namex in /usr/local/lib/python3.10/dist-packages (from keras>=3.2.0->scikeras) (0.0.8)\n",
            "Requirement already satisfied: h5py in /usr/local/lib/python3.10/dist-packages (from keras>=3.2.0->scikeras) (3.12.1)\n",
            "Requirement already satisfied: optree in /usr/local/lib/python3.10/dist-packages (from keras>=3.2.0->scikeras) (0.13.1)\n",
            "Requirement already satisfied: ml-dtypes in /usr/local/lib/python3.10/dist-packages (from keras>=3.2.0->scikeras) (0.4.1)\n",
            "Requirement already satisfied: packaging in /usr/local/lib/python3.10/dist-packages (from keras>=3.2.0->scikeras) (24.2)\n",
            "Requirement already satisfied: scipy>=1.6.0 in /usr/local/lib/python3.10/dist-packages (from scikit-learn>=1.4.2->scikeras) (1.13.1)\n",
            "Requirement already satisfied: joblib>=1.2.0 in /usr/local/lib/python3.10/dist-packages (from scikit-learn>=1.4.2->scikeras) (1.4.2)\n",
            "Requirement already satisfied: threadpoolctl>=3.1.0 in /usr/local/lib/python3.10/dist-packages (from scikit-learn>=1.4.2->scikeras) (3.5.0)\n",
            "Requirement already satisfied: typing-extensions>=4.5.0 in /usr/local/lib/python3.10/dist-packages (from optree->keras>=3.2.0->scikeras) (4.12.2)\n",
            "Requirement already satisfied: markdown-it-py>=2.2.0 in /usr/local/lib/python3.10/dist-packages (from rich->keras>=3.2.0->scikeras) (3.0.0)\n",
            "Requirement already satisfied: pygments<3.0.0,>=2.13.0 in /usr/local/lib/python3.10/dist-packages (from rich->keras>=3.2.0->scikeras) (2.18.0)\n",
            "Requirement already satisfied: mdurl~=0.1 in /usr/local/lib/python3.10/dist-packages (from markdown-it-py>=2.2.0->rich->keras>=3.2.0->scikeras) (0.1.2)\n",
            "Downloading scikeras-0.13.0-py3-none-any.whl (26 kB)\n",
            "Installing collected packages: scikeras\n",
            "Successfully installed scikeras-0.13.0\n"
          ]
        }
      ]
    },
    {
      "cell_type": "code",
      "execution_count": 7,
      "metadata": {
        "id": "jIHVwzIYSZjB",
        "colab": {
          "base_uri": "https://localhost:8080/"
        },
        "outputId": "3c7b8e93-1b36-44d8-ebd6-fd9d6781c806"
      },
      "outputs": [
        {
          "output_type": "stream",
          "name": "stderr",
          "text": [
            "/usr/local/lib/python3.10/dist-packages/keras/src/layers/core/dense.py:87: UserWarning: Do not pass an `input_shape`/`input_dim` argument to a layer. When using Sequential models, prefer using an `Input(shape)` object as the first layer in the model instead.\n",
            "  super().__init__(activity_regularizer=activity_regularizer, **kwargs)\n"
          ]
        }
      ],
      "source": [
        "# Write your model, and training here\n",
        "model = Sequential()\n",
        "model.add(Dense(units = 1, activation = 'relu', input_dim = X_train.shape[1]))\n",
        "# model.add(Dense(units = 1, activation = 'sigmoid'))"
      ]
    },
    {
      "cell_type": "markdown",
      "metadata": {
        "id": "mnxn0OJvKbxP"
      },
      "source": [
        "### Now lets compile our model using the function compile\n",
        "### Here we will use rmsprop as an optimizer and binary crossentropy as our loss function"
      ]
    },
    {
      "cell_type": "code",
      "execution_count": 8,
      "metadata": {
        "id": "kuLxxVo9KQrt"
      },
      "outputs": [],
      "source": [
        "model.compile(optimizer = 'rmsprop', loss = 'binary_crossentropy')"
      ]
    },
    {
      "cell_type": "code",
      "source": [
        "from scikeras.wrappers import KerasClassifier\n",
        "from sklearn.metrics import classification_report\n",
        "\n",
        "estimator = KerasClassifier(model= model, epochs= 20, verbose = 0)\n",
        "estimator.fit(X_train, y_train, verbose =0)\n",
        "yhat_keras = estimator.predict(X_test)\n",
        "\n",
        "print(classification_report(y_test, yhat_keras))"
      ],
      "metadata": {
        "colab": {
          "base_uri": "https://localhost:8080/"
        },
        "id": "1tgL_q2ZSjiC",
        "outputId": "dd587324-bdd0-499e-804d-f306f4cf5b52"
      },
      "execution_count": 9,
      "outputs": [
        {
          "output_type": "stream",
          "name": "stdout",
          "text": [
            "              precision    recall  f1-score   support\n",
            "\n",
            "           0       0.71      0.93      0.81        92\n",
            "           1       0.84      0.48      0.61        67\n",
            "\n",
            "    accuracy                           0.74       159\n",
            "   macro avg       0.78      0.71      0.71       159\n",
            "weighted avg       0.77      0.74      0.72       159\n",
            "\n"
          ]
        }
      ]
    },
    {
      "cell_type": "markdown",
      "metadata": {
        "id": "6ru-Sg5jYnae"
      },
      "source": [
        "### 1.2) Using the example for traindata above create a model using different activation functions by setting MYACTIVATIONFXN: (10 points)\n",
        "\n",
        "Here is the example code you can use to build your own DNN after you check the shape of your X matrix. Similar to HW4\n",
        "```python\n",
        "# Hint! You can start with model.add(Dense(units = 16, activation = 'relu', input_dim = ?))\n",
        "# Make sure the input_dim parameter is set to the number of features in your X matrix.\n",
        "MYACTIVATIONFXN = 'SOMEFXN'\n",
        "model.add(Dense(units = 14, activation = MYACTIVATIONFXN, input_dim = ?))\n",
        "```\n"
      ]
    },
    {
      "cell_type": "code",
      "execution_count": 10,
      "metadata": {
        "id": "mPxlO3Xwtayb"
      },
      "outputs": [],
      "source": [
        "# Let's initialize our model\n",
        "model = Sequential() # Initialising the ANN/DNN"
      ]
    },
    {
      "cell_type": "code",
      "execution_count": 11,
      "metadata": {
        "id": "SHWjAD8Otzbl",
        "colab": {
          "base_uri": "https://localhost:8080/"
        },
        "outputId": "ee218e81-4e76-41b4-b068-0c377c212d48"
      },
      "outputs": [
        {
          "output_type": "execute_result",
          "data": {
            "text/plain": [
              "(792, 14)"
            ]
          },
          "metadata": {},
          "execution_count": 11
        }
      ],
      "source": [
        "# Let's Check the shape of our data!\n",
        "# This should match your input layer\n",
        "X.shape"
      ]
    },
    {
      "cell_type": "code",
      "execution_count": 12,
      "metadata": {
        "id": "U6D4qvTGYnaf",
        "colab": {
          "base_uri": "https://localhost:8080/"
        },
        "outputId": "d95ff724-de48-4ba6-93a3-1178bd182104"
      },
      "outputs": [
        {
          "output_type": "stream",
          "name": "stderr",
          "text": [
            "/usr/local/lib/python3.10/dist-packages/keras/src/layers/core/dense.py:87: UserWarning: Do not pass an `input_shape`/`input_dim` argument to a layer. When using Sequential models, prefer using an `Input(shape)` object as the first layer in the model instead.\n",
            "  super().__init__(activity_regularizer=activity_regularizer, **kwargs)\n"
          ]
        }
      ],
      "source": [
        "# If you decide to initially use a sigmoid, make sure the number of units matches the number of targets\n",
        "# in this case we only have 1 target so for sigmoid you need to set units to 1\n",
        "# Please use the example code above in the hint.\n",
        "MYACTIVATIONFXN = 'relu'\n",
        "model.add(Dense(units = 1, activation = MYACTIVATIONFXN, input_dim = X.shape[1]))\n"
      ]
    },
    {
      "cell_type": "markdown",
      "metadata": {
        "id": "yfInuSI-UH0O"
      },
      "source": [
        "### Now lets compile our model using the function compile\n",
        "### Here we will use rmsprop as an optimizer and binary crossentropy as our loss function"
      ]
    },
    {
      "cell_type": "code",
      "execution_count": 13,
      "metadata": {
        "id": "FPF064_rUIGk"
      },
      "outputs": [],
      "source": [
        "model.compile(optimizer = 'rmsprop', loss = 'binary_crossentropy')\n"
      ]
    },
    {
      "cell_type": "markdown",
      "metadata": {
        "id": "kJEr9VGaQjxY"
      },
      "source": [
        "Implement tensorflows [early stopping](https://www.tensorflow.org/api_docs/python/tf/keras/callbacks/EarlyStopping) library. Feel free to play with the settings and parameters"
      ]
    },
    {
      "cell_type": "code",
      "execution_count": 14,
      "metadata": {
        "id": "yfEfQQlfQjAR"
      },
      "outputs": [],
      "source": [
        "early_stopping = tf.keras.callbacks.EarlyStopping(\n",
        "    monitor='val_loss',\n",
        "    min_delta=0,\n",
        "    patience=0,\n",
        "    verbose=0,\n",
        "    mode='auto',\n",
        "    baseline=None,\n",
        "    restore_best_weights=False,\n",
        "    start_from_epoch=0\n",
        ")"
      ]
    },
    {
      "cell_type": "markdown",
      "metadata": {
        "id": "8xXvT24DUlRF"
      },
      "source": [
        "### Here we will run our ANN/DNN using the fit function using a batch size of 1 and 10 epochs\n",
        "Early stopping has been added to your model.fit call"
      ]
    },
    {
      "cell_type": "code",
      "execution_count": 15,
      "metadata": {
        "id": "ELg4LXeYUpdx",
        "colab": {
          "base_uri": "https://localhost:8080/"
        },
        "outputId": "5fe1182d-7691-4318-9de3-019e5402077f"
      },
      "outputs": [
        {
          "output_type": "stream",
          "name": "stderr",
          "text": [
            "/usr/local/lib/python3.10/dist-packages/keras/src/callbacks/early_stopping.py:155: UserWarning: Early stopping conditioned on metric `val_loss` which is not available. Available metrics are: loss\n",
            "  current = self.get_monitor_value(logs)\n"
          ]
        }
      ],
      "source": [
        "# I have provided the code for you here:\n",
        "# Feel free to play around with the code as you please\n",
        "history = model.fit(X_train.astype('float'), y_train, batch_size = 1, epochs = 10, callbacks = [early_stopping], verbose = 0)\n"
      ]
    },
    {
      "cell_type": "markdown",
      "metadata": {
        "id": "2AOBK9hbYnaf"
      },
      "source": [
        "### 1.3) How does the error (in terms of accuracy, precision or recall) differ between the models you developed (latest model vs basic model above)? Write in one paragraph or less how the error differs and why. (5 points)"
      ]
    },
    {
      "cell_type": "markdown",
      "metadata": {
        "id": "gm1PVZOAPLLx"
      },
      "source": [
        "**Answer:** The biggest difference happens with everything when it comes to true values. With the callback, we were a lot more accurate than using my original model. With this new function, we are looking at small sample sizes and making sure we don't overfit which is why our scores are better, as it is more complex."
      ]
    },
    {
      "cell_type": "code",
      "execution_count": 16,
      "metadata": {
        "id": "fP8EYlBUYnaf",
        "colab": {
          "base_uri": "https://localhost:8080/"
        },
        "outputId": "58c03937-1427-4037-9f50-ea7b8531435f"
      },
      "outputs": [
        {
          "output_type": "stream",
          "name": "stdout",
          "text": [
            "\u001b[1m5/5\u001b[0m \u001b[32m━━━━━━━━━━━━━━━━━━━━\u001b[0m\u001b[37m\u001b[0m \u001b[1m0s\u001b[0m 9ms/step \n",
            "Callback: \n",
            "               precision    recall  f1-score   support\n",
            "\n",
            "           0       0.71      0.84      0.77        92\n",
            "           1       0.71      0.54      0.61        67\n",
            "\n",
            "    accuracy                           0.71       159\n",
            "   macro avg       0.71      0.69      0.69       159\n",
            "weighted avg       0.71      0.71      0.70       159\n",
            "\n",
            "Keras: \n",
            "               precision    recall  f1-score   support\n",
            "\n",
            "           0       0.71      0.93      0.81        92\n",
            "           1       0.84      0.48      0.61        67\n",
            "\n",
            "    accuracy                           0.74       159\n",
            "   macro avg       0.78      0.71      0.71       159\n",
            "weighted avg       0.77      0.74      0.72       159\n",
            "\n"
          ]
        }
      ],
      "source": [
        "# Hint! Use the predict function if you don't have logits you will need to threshold your results. 0.5 is reasonable.\n",
        "# Please see the BCC jupyter notebook to see how to do this\n",
        "# Predict your train, test\n",
        "# Evaluate your history\n",
        "yhat_hist = model.predict(X_test.astype('float'))\n",
        "yhat_hist = (yhat_hist > 0.5) * 1\n",
        "print(\"Callback: \\n\", classification_report(y_test, yhat_hist))\n",
        "print(\"Keras: \\n\", classification_report(y_test, yhat_keras))"
      ]
    },
    {
      "cell_type": "markdown",
      "metadata": {
        "id": "cH4ltuutPpgr"
      },
      "source": []
    },
    {
      "cell_type": "markdown",
      "metadata": {
        "id": "NfKWyWNHYnaf"
      },
      "source": [
        "## 2) Complex fit of flowers (30 points)"
      ]
    },
    {
      "cell_type": "markdown",
      "metadata": {
        "id": "A_PTyVq4Ynaf"
      },
      "source": [
        "The cool stuff starts with more complex functions. The [Deep learning course from Andrew Ng](https://www.coursera.org/learn/neural-networks-deep-learning?specialization=deep-learning) show a way to predict [Rose-functions](https://en.wikipedia.org/wiki/Rose_(mathematics)) using a model with multiple nodes. Lets try that as well! This is similar to our example on tf playground.\n",
        "\n",
        "Let's get started!\n",
        "\n",
        "First we need to import the data:"
      ]
    },
    {
      "cell_type": "code",
      "execution_count": 32,
      "metadata": {
        "id": "qMMal0QFYnaf"
      },
      "outputs": [],
      "source": [
        "import numpy as np\n",
        "data = np.load('./data/rose/rose.npz')\n",
        "X, Y = data['X'], data['Y']"
      ]
    },
    {
      "cell_type": "markdown",
      "metadata": {
        "id": "Zo5iuacCYnaf"
      },
      "source": [
        "To give a feel how it looks, we will first plot the rose, which has 7 petals:"
      ]
    },
    {
      "cell_type": "code",
      "execution_count": 33,
      "metadata": {
        "id": "od7DDx7YYnaf"
      },
      "outputs": [],
      "source": [
        "import matplotlib.pyplot as plt\n",
        "def testModelKeras(X, y, model, h=0.1, f=1.05):\n",
        "    r = X.max()\n",
        "    xmesh, ymesh = np.meshgrid(np.arange(-r*f, r*f+h, h), np.arange(-r*f, r*f+h, h))\n",
        "    Z = model.predict(((np.c_[xmesh.ravel(), ymesh.ravel()])))\n",
        "    Z = (Z > 0.5) * 1\n",
        "    Z = Z.T.reshape(xmesh.shape)\n",
        "    plt.contourf(xmesh, ymesh, Z, cmap=plt.cm.OrRd)\n",
        "    plt.scatter(X[:,0], X[:,1], c=y.flatten().T, cmap=plt.cm.OrRd)"
      ]
    },
    {
      "cell_type": "code",
      "execution_count": 37,
      "metadata": {
        "id": "kuZmpnJAYnag",
        "colab": {
          "base_uri": "https://localhost:8080/",
          "height": 540
        },
        "outputId": "e73d7241-6d7e-42b5-f7a7-f6ab0edcb87b"
      },
      "outputs": [
        {
          "output_type": "execute_result",
          "data": {
            "text/plain": [
              "<matplotlib.collections.PathCollection at 0x7be81a711a20>"
            ]
          },
          "metadata": {},
          "execution_count": 37
        },
        {
          "output_type": "display_data",
          "data": {
            "text/plain": [
              "<Figure size 600x600 with 1 Axes>"
            ],
            "image/png": "[encoded data removed]"
          },
          "metadata": {}
        }
      ],
      "source": [
        "fig, ax = plt.subplots(1, 1, figsize=(6, 6))\n",
        "plt.scatter(X[0,:], X[1,:], c=Y.flatten())"
      ]
    },
    {
      "cell_type": "markdown",
      "metadata": {
        "id": "YwZQztEbOLHe"
      },
      "source": []
    },
    {
      "cell_type": "markdown",
      "metadata": {
        "id": "nJYtVl06a1Fu"
      },
      "source": [
        "#### Q2: We will now implement customization via TensorFlow Keras"
      ]
    },
    {
      "cell_type": "code",
      "execution_count": 20,
      "metadata": {
        "id": "cZF8N-qpbJ-M",
        "colab": {
          "base_uri": "https://localhost:8080/",
          "height": 88
        },
        "outputId": "41d67a31-8e2c-42f1-b453-ee7fcc718b2f"
      },
      "outputs": [
        {
          "output_type": "display_data",
          "data": {
            "text/plain": [
              "(688, 2)"
            ]
          },
          "metadata": {}
        },
        {
          "output_type": "display_data",
          "data": {
            "text/plain": [
              "(688, 1)"
            ]
          },
          "metadata": {}
        },
        {
          "output_type": "display_data",
          "data": {
            "text/plain": [
              "(550, 2)"
            ]
          },
          "metadata": {}
        },
        {
          "output_type": "display_data",
          "data": {
            "text/plain": [
              "(550, 1)"
            ]
          },
          "metadata": {}
        }
      ],
      "source": [
        "import numpy as np\n",
        "data = np.load('./data/rose/rose.npz')\n",
        "X, y = data['X'].transpose(), data['Y'].transpose()\n",
        "display(X.shape)\n",
        "display(y.shape)\n",
        "\n",
        "X_train, X_test, y_train, y_test = train_test_split(X, y, test_size=0.2, random_state=21)\n",
        "display(X_train.shape)\n",
        "display(y_train.shape)\n",
        "\n",
        "# Let's initialize our model\n",
        "model = Sequential() # Initialising the ANN"
      ]
    },
    {
      "cell_type": "markdown",
      "metadata": {
        "id": "IaSeK8fpYnah"
      },
      "source": [
        "### 2.1) Using the example above, try different number of nodes(units) and different activation functions and build at least one or two models that shows some of your experimentation. How does your loss change? Is this classification or regression? Enter your answer below and why. (10 points)\n",
        "Use history to extract the history of your metrics and loss\n",
        "\n",
        "Enable call backs as you did in Q1\n",
        "\n",
        "Please store your models and experimentation in different variables"
      ]
    },
    {
      "cell_type": "markdown",
      "metadata": {
        "id": "TVFQjmsSPLL0"
      },
      "source": [
        "**Answer:** My loss increased when I used sigmoid compared to relu. This is classification and this happened because this is not a linear answer so sigmoid had a harder time defining this."
      ]
    },
    {
      "cell_type": "code",
      "execution_count": 46,
      "metadata": {
        "id": "hUa1-L50Ynah",
        "colab": {
          "base_uri": "https://localhost:8080/"
        },
        "outputId": "ba6ea736-d3e2-40b1-d147-f4846b556e1a"
      },
      "outputs": [
        {
          "output_type": "stream",
          "name": "stderr",
          "text": [
            "/usr/local/lib/python3.10/dist-packages/keras/src/layers/core/dense.py:87: UserWarning: Do not pass an `input_shape`/`input_dim` argument to a layer. When using Sequential models, prefer using an `Input(shape)` object as the first layer in the model instead.\n",
            "  super().__init__(activity_regularizer=activity_regularizer, **kwargs)\n"
          ]
        }
      ],
      "source": [
        "# build your model\n",
        "MYACTIVATIONFXN = 'relu'\n",
        "model.add(Dense(units = 1, activation = MYACTIVATIONFXN, input_dim = X_train.shape[1]))\n",
        "model2 = Sequential()\n",
        "MYACTIVATIONFXN = 'sigmoid'\n",
        "model2.add(Dense(units = 1, activation = MYACTIVATIONFXN, input_dim = X_train.shape[1]))"
      ]
    },
    {
      "cell_type": "code",
      "execution_count": 47,
      "metadata": {
        "id": "NL_ieFi1RS_x"
      },
      "outputs": [],
      "source": [
        "# compile your model\n",
        "model.compile(optimizer = 'rmsprop', loss = 'binary_crossentropy')\n",
        "model2.compile(optimizer = 'rmsprop', loss = 'binary_crossentropy')"
      ]
    },
    {
      "cell_type": "code",
      "execution_count": 48,
      "metadata": {
        "id": "opy06KYbRW_u"
      },
      "outputs": [],
      "source": [
        "# set up your early stopping call backs\n",
        "early_stopping = tf.keras.callbacks.EarlyStopping()"
      ]
    },
    {
      "cell_type": "code",
      "execution_count": 50,
      "metadata": {
        "id": "YdwIYLZ2P3HP",
        "colab": {
          "base_uri": "https://localhost:8080/"
        },
        "outputId": "82f39404-98b7-465c-c707-a6b8b92a3f38"
      },
      "outputs": [
        {
          "output_type": "stream",
          "name": "stdout",
          "text": [
            "\u001b[1m5/5\u001b[0m \u001b[32m━━━━━━━━━━━━━━━━━━━━\u001b[0m\u001b[37m\u001b[0m \u001b[1m0s\u001b[0m 4ms/step \n",
            "              precision    recall  f1-score   support\n",
            "\n",
            "           0       0.62      1.00      0.77        86\n",
            "           1       0.00      0.00      0.00        52\n",
            "\n",
            "    accuracy                           0.62       138\n",
            "   macro avg       0.31      0.50      0.38       138\n",
            "weighted avg       0.39      0.62      0.48       138\n",
            "\n",
            "{'loss': [7.150573253631592, 7.150572776794434, 7.15057373046875, 7.150573253631592, 7.150573253631592, 7.15057373046875, 7.150574207305908, 7.150574207305908, 7.150573253631592, 7.150573253631592]}\n"
          ]
        },
        {
          "output_type": "stream",
          "name": "stderr",
          "text": [
            "/usr/local/lib/python3.10/dist-packages/sklearn/metrics/_classification.py:1531: UndefinedMetricWarning: Precision is ill-defined and being set to 0.0 in labels with no predicted samples. Use `zero_division` parameter to control this behavior.\n",
            "  _warn_prf(average, modifier, f\"{metric.capitalize()} is\", len(result))\n",
            "/usr/local/lib/python3.10/dist-packages/sklearn/metrics/_classification.py:1531: UndefinedMetricWarning: Precision is ill-defined and being set to 0.0 in labels with no predicted samples. Use `zero_division` parameter to control this behavior.\n",
            "  _warn_prf(average, modifier, f\"{metric.capitalize()} is\", len(result))\n",
            "/usr/local/lib/python3.10/dist-packages/sklearn/metrics/_classification.py:1531: UndefinedMetricWarning: Precision is ill-defined and being set to 0.0 in labels with no predicted samples. Use `zero_division` parameter to control this behavior.\n",
            "  _warn_prf(average, modifier, f\"{metric.capitalize()} is\", len(result))\n"
          ]
        },
        {
          "output_type": "stream",
          "name": "stdout",
          "text": [
            "\u001b[1m5/5\u001b[0m \u001b[32m━━━━━━━━━━━━━━━━━━━━\u001b[0m\u001b[37m\u001b[0m \u001b[1m0s\u001b[0m 3ms/step \n",
            "              precision    recall  f1-score   support\n",
            "\n",
            "           0       0.59      0.57      0.58        86\n",
            "           1       0.33      0.35      0.34        52\n",
            "\n",
            "    accuracy                           0.49       138\n",
            "   macro avg       0.46      0.46      0.46       138\n",
            "weighted avg       0.49      0.49      0.49       138\n",
            "\n",
            "{'loss': [0.7841905355453491, 0.7647605538368225, 0.7485986948013306, 0.7351421117782593, 0.7227610349655151, 0.7118498682975769, 0.7021254301071167, 0.6940625309944153, 0.6876601576805115, 0.682396411895752]}\n"
          ]
        }
      ],
      "source": [
        "history_model1 = model.fit(X_train.astype('float'), y_train, batch_size = 10, epochs = 10, verbose = 0)\n",
        "yhat_model1 = model.predict(X_test.astype('float'))\n",
        "yhat_model1 = (yhat_model1 > 0.5) * 1\n",
        "print(classification_report(y_test, yhat_model1))\n",
        "print(history_model1.history)\n",
        "history_model2 = model2.fit(X_train.astype('float'), y_train, batch_size = 10, epochs = 10, verbose = 0)\n",
        "yhat_model2 = model2.predict(X_test.astype('float'))\n",
        "yhat_model2 = (yhat_model2 > 0.5) * 1\n",
        "print(classification_report(y_test, yhat_model2))\n",
        "print(history_model2.history)"
      ]
    },
    {
      "cell_type": "code",
      "source": [
        "print(history_model1.history)"
      ],
      "metadata": {
        "colab": {
          "base_uri": "https://localhost:8080/"
        },
        "id": "oOUkflyApGMp",
        "outputId": "1c1afe7a-c05f-4a32-edd8-16b5a69383de"
      },
      "execution_count": 52,
      "outputs": [
        {
          "output_type": "stream",
          "name": "stdout",
          "text": [
            "{'loss': [7.150573253631592, 7.150572776794434, 7.15057373046875, 7.150573253631592, 7.150573253631592, 7.15057373046875, 7.150574207305908, 7.150574207305908, 7.150573253631592, 7.150573253631592]}\n"
          ]
        }
      ]
    },
    {
      "cell_type": "markdown",
      "metadata": {
        "id": "aVKN7RMLYnah"
      },
      "source": [
        "### 2.2) Using 2.1 as a reference, create two new models and calculate your new error using classification report. Also, using the metrics, explain why you see the same or why you see a different error. (10 points)"
      ]
    },
    {
      "cell_type": "markdown",
      "metadata": {
        "id": "NgpEo3uSPLL5"
      },
      "source": [
        "**Answer:** I see a much lower loss for each of these because there is more layers which makes it able to use callbacks and go more in depth."
      ]
    },
    {
      "cell_type": "code",
      "execution_count": 54,
      "metadata": {
        "id": "nvi8QHpjYnah",
        "colab": {
          "base_uri": "https://localhost:8080/"
        },
        "outputId": "d200617b-b0e6-4183-8293-27e3abb1c2fd"
      },
      "outputs": [
        {
          "output_type": "stream",
          "name": "stderr",
          "text": [
            "/usr/local/lib/python3.10/dist-packages/keras/src/layers/core/dense.py:87: UserWarning: Do not pass an `input_shape`/`input_dim` argument to a layer. When using Sequential models, prefer using an `Input(shape)` object as the first layer in the model instead.\n",
            "  super().__init__(activity_regularizer=activity_regularizer, **kwargs)\n"
          ]
        },
        {
          "output_type": "stream",
          "name": "stdout",
          "text": [
            "\u001b[1m5/5\u001b[0m \u001b[32m━━━━━━━━━━━━━━━━━━━━\u001b[0m\u001b[37m\u001b[0m \u001b[1m0s\u001b[0m 12ms/step\n",
            "              precision    recall  f1-score   support\n",
            "\n",
            "           0       0.95      1.00      0.97        86\n",
            "           1       1.00      0.90      0.95        52\n",
            "\n",
            "    accuracy                           0.96       138\n",
            "   macro avg       0.97      0.95      0.96       138\n",
            "weighted avg       0.97      0.96      0.96       138\n",
            "\n",
            "{'loss': [5.157952785491943, 5.110164165496826, 3.8755767345428467, 2.946624994277954, 2.7788872718811035, 2.647212028503418, 1.9037601947784424, 0.5085389614105225, 0.4150835871696472, 0.3646238148212433]}\n"
          ]
        },
        {
          "output_type": "stream",
          "name": "stderr",
          "text": [
            "/usr/local/lib/python3.10/dist-packages/keras/src/layers/core/dense.py:87: UserWarning: Do not pass an `input_shape`/`input_dim` argument to a layer. When using Sequential models, prefer using an `Input(shape)` object as the first layer in the model instead.\n",
            "  super().__init__(activity_regularizer=activity_regularizer, **kwargs)\n"
          ]
        },
        {
          "output_type": "stream",
          "name": "stdout",
          "text": [
            "\u001b[1m5/5\u001b[0m \u001b[32m━━━━━━━━━━━━━━━━━━━━\u001b[0m\u001b[37m\u001b[0m \u001b[1m0s\u001b[0m 9ms/step \n",
            "              precision    recall  f1-score   support\n",
            "\n",
            "           0       0.64      0.71      0.67        86\n",
            "           1       0.42      0.35      0.38        52\n",
            "\n",
            "    accuracy                           0.57       138\n",
            "   macro avg       0.53      0.53      0.53       138\n",
            "weighted avg       0.56      0.57      0.56       138\n",
            "\n",
            "{'loss': [0.716627836227417, 0.6854878664016724, 0.6736432313919067, 0.6685892939567566, 0.6658680438995361, 0.6636437773704529, 0.6617630124092102, 0.6595460772514343, 0.6581786870956421, 0.656269907951355]}\n"
          ]
        }
      ],
      "source": [
        "MYACTIVATIONFXN = 'tanh'\n",
        "model2 = Sequential() # Initialising the ANN\n",
        "model2.add(Dense(units = 14, activation = MYACTIVATIONFXN, input_dim = X_train.shape[1]))\n",
        "model2.add(Dense(units = 1, activation = MYACTIVATIONFXN))\n",
        "model2.compile(optimizer = 'rmsprop', loss = 'binary_crossentropy')\n",
        "history_tenflw2 = model2.fit(X_train.astype('float'), y_train, batch_size = 10, epochs = 10, verbose = 0)\n",
        "\n",
        "model2.fit(X_train, y_train, batch_size = 10, epochs = 20, verbose = 0)\n",
        "yhat_tensflw2 = model2.predict(X_test.astype('float'))\n",
        "yhat_tensflw2 = (yhat_tensflw2 > 0.5) * 1\n",
        "print(classification_report(y_test, yhat_tensflw2))\n",
        "print(history_tenflw2.history)\n",
        "\n",
        "model3 = Sequential() # Initialising the ANN\n",
        "MYACTIVATIONFXN = 'sigmoid'\n",
        "model3.add(Dense(units = 14, activation = MYACTIVATIONFXN, input_dim = X_train.shape[1]))\n",
        "model3.add(Dense(units = 1, activation = MYACTIVATIONFXN))\n",
        "model3.compile(optimizer = 'rmsprop', loss = 'binary_crossentropy')\n",
        "history_tenflw3 = model3.fit(X_train.astype('float'), y_train, batch_size = 10, epochs = 10, verbose = 0)\n",
        "\n",
        "model3.fit(X_train, y_train, batch_size = 10, epochs = 20, verbose = 0)\n",
        "yhat_tensflw3 = model3.predict(X_test.astype('float'))\n",
        "yhat_tensflw3 = (yhat_tensflw3 > 0.5) * 1\n",
        "print(classification_report(y_test, yhat_tensflw3))\n",
        "print(history_tenflw3.history)"
      ]
    },
    {
      "cell_type": "markdown",
      "metadata": {
        "id": "TvcIw3pHYnah"
      },
      "source": [
        "### 2.3) Choose your best model! Now plot the new results using the plotting example shown above but using our newly trained best/coolest model. (10 points)"
      ]
    },
    {
      "cell_type": "code",
      "execution_count": 60,
      "metadata": {
        "id": "gK14EFkPYnai",
        "colab": {
          "base_uri": "https://localhost:8080/",
          "height": 448
        },
        "outputId": "30fa7fd4-b2e5-464c-de0f-fed184d6f393"
      },
      "outputs": [
        {
          "output_type": "stream",
          "name": "stdout",
          "text": [
            "\u001b[1m226/226\u001b[0m \u001b[32m━━━━━━━━━━━━━━━━━━━━\u001b[0m\u001b[37m\u001b[0m \u001b[1m1s\u001b[0m 2ms/step\n"
          ]
        },
        {
          "output_type": "display_data",
          "data": {
            "text/plain": [
              "<Figure size 640x480 with 1 Axes>"
            ],
            "image/png": "[encoded data removed]"
          },
          "metadata": {}
        }
      ],
      "source": [
        "testModelKeras(X_train, y_train, model2)"
      ]
    },
    {
      "cell_type": "markdown",
      "metadata": {
        "id": "oRRH5UW1Ynai"
      },
      "source": [
        "## 3) Cats vs not cats (40 points)"
      ]
    },
    {
      "cell_type": "markdown",
      "metadata": {
        "id": "KNymHxiNiY4S"
      },
      "source": [
        "#### Q3: Let's find some cute kittens!"
      ]
    },
    {
      "cell_type": "code",
      "execution_count": 61,
      "metadata": {
        "id": "UVrE_ZFuiarQ",
        "colab": {
          "base_uri": "https://localhost:8080/",
          "height": 53
        },
        "outputId": "9dc9a4f0-89c9-459e-83f9-1eb190e275c6"
      },
      "outputs": [
        {
          "output_type": "display_data",
          "data": {
            "text/plain": [
              "(209, 12288)"
            ]
          },
          "metadata": {}
        },
        {
          "output_type": "display_data",
          "data": {
            "text/plain": [
              "(209, 1)"
            ]
          },
          "metadata": {}
        }
      ],
      "source": [
        "import numpy as np\n",
        "data = np.load('./data/cats/cats.npz')\n",
        "X_train, y_train = data['Xtrain'].transpose(), data['Ytrain'].transpose()\n",
        "X_test, y_test = data['Xtest'].transpose(), data['Ytest'].transpose()\n",
        "display(X_train.shape)\n",
        "display(y_train.shape)\n",
        "\n",
        "# Let's initialize our model\n",
        "model = Sequential() # Initialising the ANN"
      ]
    },
    {
      "cell_type": "markdown",
      "metadata": {
        "id": "IrCvQs6NYnak"
      },
      "source": [
        "### 3.1) Same as before, build a new model with different number of hidden layers, nodes and activation functions. Describe reason for any similarity or difference (20 points)"
      ]
    },
    {
      "cell_type": "markdown",
      "metadata": {
        "id": "05iHktixPLL6"
      },
      "source": [
        "**Answer:** This one is very complex, with many layers which is why I would expect overfitting to occur."
      ]
    },
    {
      "cell_type": "code",
      "execution_count": 62,
      "metadata": {
        "id": "wmdATv6tYnak",
        "colab": {
          "base_uri": "https://localhost:8080/"
        },
        "outputId": "2ef9a3c5-d33b-4195-ff15-2a56ba8885b6"
      },
      "outputs": [
        {
          "output_type": "stream",
          "name": "stderr",
          "text": [
            "/usr/local/lib/python3.10/dist-packages/keras/src/layers/core/dense.py:87: UserWarning: Do not pass an `input_shape`/`input_dim` argument to a layer. When using Sequential models, prefer using an `Input(shape)` object as the first layer in the model instead.\n",
            "  super().__init__(activity_regularizer=activity_regularizer, **kwargs)\n"
          ]
        }
      ],
      "source": [
        "from keras.models import Sequential\n",
        "from keras.layers import Dense# Try using different iterations using a simple layout like above. 10, 100, 1000 epochs.\n",
        "# What happens with your loss?\n",
        "# I have written the basics of the code for you\n",
        "MYACTIVATIONFXN = 'relu'\n",
        "model.add(Dense(units = 128, activation = MYACTIVATIONFXN, input_dim = X_train.shape[1]))\n",
        "model.add(Dense(units = 64, activation = MYACTIVATIONFXN))\n",
        "model.add(Dense(units = 32, activation = MYACTIVATIONFXN))\n",
        "model.add(Dense(units = 16, activation = MYACTIVATIONFXN))\n",
        "model.add(Dense(units = 1, activation = 'sigmoid'))\n",
        "model.compile(optimizer = 'rmsprop', loss = 'binary_crossentropy')\n"
      ]
    },
    {
      "cell_type": "markdown",
      "metadata": {
        "id": "WM4YcSOcRjEk"
      },
      "source": [
        "Implement early stopping and [model checkpointing](https://www.tensorflow.org/api_docs/python/tf/keras/callbacks/ModelCheckpoint) to save your model weights. experiment with other call backs to get your best validation metric. For callbacks, you can save your weights and set up a monitor"
      ]
    },
    {
      "cell_type": "code",
      "execution_count": 65,
      "metadata": {
        "id": "VGUrbX9ysgJJ"
      },
      "outputs": [],
      "source": [
        "early_stopping = tf.keras.callbacks.EarlyStopping(\n",
        "    monitor='val_loss',\n",
        "    min_delta=10,\n",
        "    patience=4,\n",
        "    verbose=0,\n",
        "    mode='auto',\n",
        "    baseline=None,\n",
        "    restore_best_weights=False,\n",
        "    start_from_epoch=10\n",
        ")\n",
        "\n",
        "model_checkpoint = tf.keras.callbacks.ModelCheckpoint(\n",
        "    filepath='./models/best_model.keras',\n",
        "    monitor='val_loss',\n",
        "    verbose=0,\n",
        "    save_best_only=False,\n",
        "    save_weights_only=False,\n",
        "    mode='auto',\n",
        "    save_freq='epoch',\n",
        "    initial_value_threshold=None\n",
        "\n",
        ")"
      ]
    },
    {
      "cell_type": "markdown",
      "metadata": {
        "id": "w6PLcpRxRxAJ"
      },
      "source": [
        "Let's fit our data!"
      ]
    },
    {
      "cell_type": "code",
      "execution_count": 66,
      "metadata": {
        "id": "i8ZnyJyiRxMD",
        "colab": {
          "base_uri": "https://localhost:8080/"
        },
        "outputId": "7b7bf44c-cf4f-4afb-a7eb-c93a18fc3eac"
      },
      "outputs": [
        {
          "output_type": "stream",
          "name": "stderr",
          "text": [
            "/usr/local/lib/python3.10/dist-packages/keras/src/callbacks/early_stopping.py:155: UserWarning: Early stopping conditioned on metric `val_loss` which is not available. Available metrics are: loss\n",
            "  current = self.get_monitor_value(logs)\n"
          ]
        }
      ],
      "source": [
        "history = model.fit(X_train.astype('float'), y_train, batch_size = 10, epochs = 100, callbacks = [early_stopping, model_checkpoint], verbose = 0)"
      ]
    },
    {
      "cell_type": "markdown",
      "metadata": {
        "id": "fpPlSApU0ea6"
      },
      "source": [
        "#### Try using different layers and activation function with different number of nodes\n",
        "What happens when you add convolutional layers? What happens to our training loss? </br>\n",
        "After intitializing your model, check if you need to rescale your data. If you do, make sure you [rescale](https://www.tensorflow.org/api_docs/python/tf/keras/layers/Rescaling) using: ``` keras.layers.Rescaling(1./255) ``` </br>\n",
        "If you do not, explain how you know that rescaling is not necessary. </br>\n",
        "Here you will begin to add convolutional layers [Conv2D](https://www.tensorflow.org/api_docs/python/tf/keras/layers/Conv2D) as well as [max pooling 2D](https://www.tensorflow.org/api_docs/python/tf/keras/layers/MaxPooling2D). You typically want to do max pooling when you change the shape of your conv2d. Max pooling will focus on the most informative features and reduce the memory footprint </br>\n",
        "This also requires reshaping form 1D to 2D. Hint: Look at the plotting fxn\n",
        "```\n",
        "model.add(Conv2D(32, kernel_size=3, activation='leakyrelu', input_shape=(64, 64, 3)))\n",
        "model.add(MaxPooling2D())\n",
        "```\n",
        "Make sure you [flatten](https://www.tensorflow.org/api_docs/python/tf/keras/layers/Flatten) before going back into 1D\n",
        "Make sure your ouput layer performs a binary output for a class kitten and class not kitten\n",
        "```\n",
        "model.add(Flatten())\n",
        "```\n",
        "After you flatten, you can add your dense layers once again. </br></br>\n",
        "<em> Note: As noted above, you will have to convert your 1D array back into a 2D array prior to running your convolutional NN. Hint: Look at your plotting function down below!!! </em>"
      ]
    },
    {
      "cell_type": "markdown",
      "metadata": {
        "id": "OvBWlYZhPLL9"
      },
      "source": [
        "**Answer:** When adding different layers, our data gets messed up so I had to restart and reshape the data in order to make sure everything was preset. Also, having the flatten helped counter the Conv2d so that I could add layers."
      ]
    },
    {
      "cell_type": "code",
      "execution_count": 75,
      "metadata": {
        "id": "dVYjQT00stLx",
        "colab": {
          "base_uri": "https://localhost:8080/"
        },
        "outputId": "d975fa43-78a3-4a54-8470-f55db6baabf3"
      },
      "outputs": [
        {
          "output_type": "stream",
          "name": "stderr",
          "text": [
            "/usr/local/lib/python3.10/dist-packages/keras/src/callbacks/early_stopping.py:155: UserWarning: Early stopping conditioned on metric `val_loss` which is not available. Available metrics are: loss\n",
            "  current = self.get_monitor_value(logs)\n"
          ]
        },
        {
          "output_type": "stream",
          "name": "stdout",
          "text": [
            "\u001b[1m7/7\u001b[0m \u001b[32m━━━━━━━━━━━━━━━━━━━━\u001b[0m\u001b[37m\u001b[0m \u001b[1m1s\u001b[0m 108ms/step\n",
            "\u001b[1m2/2\u001b[0m \u001b[32m━━━━━━━━━━━━━━━━━━━━\u001b[0m\u001b[37m\u001b[0m \u001b[1m0s\u001b[0m 37ms/step \n",
            "              precision    recall  f1-score   support\n",
            "\n",
            "           0       0.40      0.59      0.48        17\n",
            "           1       0.72      0.55      0.62        33\n",
            "\n",
            "    accuracy                           0.56        50\n",
            "   macro avg       0.56      0.57      0.55        50\n",
            "weighted avg       0.61      0.56      0.57        50\n",
            "\n"
          ]
        }
      ],
      "source": [
        "from keras.layers import Conv2D, MaxPooling2D, Flatten, Rescaling\n",
        "\n",
        "model = Sequential() # Initialising the ANN\n",
        "\n",
        "X_train = X_train.reshape(-1, 64, 64, 3)\n",
        "X_test = X_test.reshape(-1, 64, 64, 3)\n",
        "\n",
        "model.add(Rescaling(1./255))\n",
        "model.add(Conv2D(32, kernel_size=3, activation='relu'))\n",
        "model.add(MaxPooling2D())\n",
        "model.add(Flatten())\n",
        "model.add(Dense(units = 128, activation = 'relu'))\n",
        "model.add(Dense(units = 64, activation = 'relu'))\n",
        "model.add(Dense(units = 32, activation = 'relu'))\n",
        "model.add(Dense(units = 16, activation = 'relu'))\n",
        "model.add(Dense(units = 1, activation = 'sigmoid'))\n",
        "model.compile(optimizer = 'rmsprop', loss = 'binary_crossentropy')\n",
        "\n",
        "history = model.fit(X_train.astype('float32'), y_train, batch_size = 10, epochs = 100, callbacks = [early_stopping, model_checkpoint], verbose = 0)\n",
        "yhat_train = model.predict(X_train.astype('float32'))\n",
        "yhat_train = (yhat_train > 0.5) * 1\n",
        "\n",
        "yhat_test = model.predict(X_test.astype('float32'))\n",
        "yhat_test = (yhat_test > 0.5) * 1\n",
        "print(classification_report(y_test, yhat_test))"
      ]
    },
    {
      "cell_type": "markdown",
      "metadata": {
        "id": "4DMjtOg5BJEl"
      },
      "source": [
        "Prediction step. Make sure you use ```yhat_train``` and ```yhat_test``` variable names for your predictions!"
      ]
    },
    {
      "cell_type": "code",
      "execution_count": 76,
      "metadata": {
        "id": "quVIixdFBRVf",
        "colab": {
          "base_uri": "https://localhost:8080/"
        },
        "outputId": "9d4223ed-5043-4c4a-c165-d343e8b69b19"
      },
      "outputs": [
        {
          "output_type": "stream",
          "name": "stdout",
          "text": [
            "\u001b[1m7/7\u001b[0m \u001b[32m━━━━━━━━━━━━━━━━━━━━\u001b[0m\u001b[37m\u001b[0m \u001b[1m0s\u001b[0m 57ms/step\n",
            "\u001b[1m2/2\u001b[0m \u001b[32m━━━━━━━━━━━━━━━━━━━━\u001b[0m\u001b[37m\u001b[0m \u001b[1m0s\u001b[0m 34ms/step\n"
          ]
        }
      ],
      "source": [
        "yhat_train = model.predict(X_train.astype('float'))\n",
        "yhat_train = (yhat_train > 0.5) * 1\n",
        "yhat_test =  model.predict(X_test.astype('float'))\n",
        "yhat_test = (yhat_test > 0.5) * 1"
      ]
    },
    {
      "cell_type": "markdown",
      "metadata": {
        "id": "Lmp8LC30Ynak"
      },
      "source": [
        "### 3.2) Calculate your accuracy (10 points)\n",
        "Here you will use both your classification report and your confusion matrix. </br>\n",
        "Later you will be asked to calculate values manually. You are welcome to pull values from your reports."
      ]
    },
    {
      "cell_type": "code",
      "execution_count": 78,
      "metadata": {
        "id": "G7xQi21-Ynak",
        "colab": {
          "base_uri": "https://localhost:8080/"
        },
        "outputId": "3d08a1b0-8dcc-4183-93c0-ecf727de79e5"
      },
      "outputs": [
        {
          "output_type": "stream",
          "name": "stdout",
          "text": [
            "              precision    recall  f1-score   support\n",
            "\n",
            "           0       0.40      0.59      0.48        17\n",
            "           1       0.72      0.55      0.62        33\n",
            "\n",
            "    accuracy                           0.56        50\n",
            "   macro avg       0.56      0.57      0.55        50\n",
            "weighted avg       0.61      0.56      0.57        50\n",
            "\n"
          ]
        }
      ],
      "source": [
        "# Hint! Use the predict function and threshold your results. 0.5 is reasonable.\n",
        "# In your classification report since we are only predicting cats you will need to set the parameter labels\n",
        "#labels=np.unique(yhat_test)\n",
        "print(classification_report(y_test, yhat_test))"
      ]
    },
    {
      "cell_type": "markdown",
      "metadata": {
        "id": "vf_Khwq1Ynak"
      },
      "source": [
        "### 3.3) Calculate your precision and recall manually as done in SA1. You cannot use values from your classification report or confusion matrix (10 points)"
      ]
    },
    {
      "cell_type": "code",
      "execution_count": 82,
      "metadata": {
        "id": "g8BpIv03Ynal",
        "colab": {
          "base_uri": "https://localhost:8080/"
        },
        "outputId": "e603e3ba-96d9-45c9-cc99-a3068260bb79"
      },
      "outputs": [
        {
          "output_type": "stream",
          "name": "stdout",
          "text": [
            "0.5454545454545454\n"
          ]
        }
      ],
      "source": [
        "# Recall calculation\n",
        "recall_score = np.sum(yhat_test + y_test == 2)/ np.sum(y_test == 1)\n",
        "print(recall_score)"
      ]
    },
    {
      "cell_type": "code",
      "execution_count": 80,
      "metadata": {
        "id": "BriMkolotghk",
        "colab": {
          "base_uri": "https://localhost:8080/"
        },
        "outputId": "b8f8e363-7fec-4aea-db23-7c8a2961567b"
      },
      "outputs": [
        {
          "output_type": "stream",
          "name": "stdout",
          "text": [
            "0.72\n"
          ]
        }
      ],
      "source": [
        "# Precision calculation\n",
        "precision_score = np.sum(yhat_test + y_test == 2)/ np.sum(yhat_test == 1)\n",
        "print(precision_score)"
      ]
    },
    {
      "cell_type": "markdown",
      "metadata": {
        "id": "n3E_cvZbkb_o"
      },
      "source": [
        "### Let's plot!!!"
      ]
    },
    {
      "cell_type": "code",
      "execution_count": 83,
      "metadata": {
        "id": "rq71-Hdnke1W",
        "colab": {
          "base_uri": "https://localhost:8080/",
          "height": 447
        },
        "outputId": "690e335c-4e89-4995-e6a7-bbb79f64fad5"
      },
      "outputs": [
        {
          "output_type": "display_data",
          "data": {
            "text/plain": [
              "<Figure size 1600x800 with 3 Axes>"
            ],
            "image/png": "[encoded data removed]"
          },
          "metadata": {}
        }
      ],
      "source": [
        "n = 3 # number of images to print\n",
        "imgs = X_test.reshape([50, 64, 64, 3]) # here we reshape our images so that they are 2D again\n",
        "fig, ax = plt.subplots(1, n, figsize=(16,8))\n",
        "for ix in range(n):\n",
        "    num = np.random.randint(imgs.shape[0]) # randomly selects from 51 images\n",
        "    ax[ix].imshow(imgs[num])\n",
        "    if yhat_test[num] == 0:\n",
        "        ax[ix].set_title('This is clearly not a cat')\n",
        "    else:\n",
        "        ax[ix].set_title('Yup! it\\'s a cat')"
      ]
    },
    {
      "cell_type": "markdown",
      "metadata": {
        "id": "z0ja7ns_Ynan"
      },
      "source": [
        "## 4) Collaborative Statement (5 points)\n",
        "#### You must fill this out even if you worked alone to get credit.\n",
        "\n",
        "It is mandatory to include a Statement of Collaboration in each submission, that follows the guidelines below.\n",
        "Include the names of everyone involved in the discussions (especially in-person ones), and what was discussed.\n",
        "All students are required to follow the academic honesty guidelines posted on the course website. For\n",
        "programming assignments in particular, I encourage students to organize (perhaps using Piazza) to discuss the\n",
        "task descriptions, requirements, possible bugs in the support code, and the relevant technical content before they\n",
        "start working on it. However, you should not discuss the specific solutions, and as a guiding principle, you are\n",
        "not allowed to take anything written or drawn away from these discussions (no photographs of the blackboard,\n",
        "written notes, referring to Piazza, etc.). Especially after you have started working on the assignment, try to restrict\n",
        "the discussion to Piazza as much as possible, so that there is no doubt as to the extent of your collaboration.\n",
        "\n",
        "Even if you did not use any outside resources or collaborate with anyone, please state that explicitly in the space below."
      ]
    },
    {
      "cell_type": "markdown",
      "metadata": {
        "id": "bC4SnF_7Ynal"
      },
      "source": [
        "## Round up!"
      ]
    },
    {
      "cell_type": "markdown",
      "metadata": {
        "id": "Ba-yJKQIYnal"
      },
      "source": [
        "I hope you all had fun, writing your own ANN. In my opinon, writing these things from the ground up is the best way to learn how it actually works. I hope that you see that these systems are not magical, but simple matrix multiplications, unfortunately just a very lot of them. The most difficult part is of course the back propagation, where we need to calculate the gradients. Our simple ANNs are quite doable, but adding more different layers to them, can make it a bit more cumbersome. Still the essence is very similar to what we have done today.\n",
        "\n",
        "My suggestion is to play around with these structures, rewrite parts of them, or even better, write your own from scratch!\n"
      ]
    },
    {
      "cell_type": "markdown",
      "metadata": {
        "id": "NJkBdpHDYnal"
      },
      "source": [
        "Please let me know if you have any comments!"
      ]
    },
    {
      "cell_type": "code",
      "execution_count": null,
      "metadata": {
        "id": "oo5nI67mYnal"
      },
      "outputs": [],
      "source": []
    },
    {
      "cell_type": "markdown",
      "metadata": {
        "id": "xUZ99lNyYnal"
      },
      "source": [
        "## Apendix: For your reference"
      ]
    },
    {
      "cell_type": "markdown",
      "metadata": {
        "id": "Pc0AoxY_Ynal"
      },
      "source": [
        "### Generating Rose Data"
      ]
    },
    {
      "cell_type": "code",
      "execution_count": null,
      "metadata": {
        "id": "vNcaQgjQYnal"
      },
      "outputs": [],
      "source": [
        "def generateRoseData():\n",
        "    k=7\n",
        "    pointPerPetal = 100\n",
        "    cutOff = 0.1\n",
        "    r = 4\n",
        "\n",
        "    theta = np.linspace(0,np.pi, pointPerPetal * k)\n",
        "    xx = r * np.cos(k * theta) * np.cos(theta)\n",
        "    yy = r * np.cos(k * theta) * np.sin(theta)\n",
        "    cc = [np.ones(pointPerPetal) if ix % 3 == 0 else np.zeros(pointPerPetal) for ix in np.arange(k)]\n",
        "    cc = np.roll(np.hstack(cc).astype(np.uint8), -pointPerPetal//2)\n",
        "    x = xx[(xx**2 + yy**2)**0.5 > cutOff]\n",
        "    y = yy[(xx**2 + yy**2)**0.5 > cutOff]\n",
        "    col = cc[(xx**2 + yy**2)**0.5 > cutOff]\n",
        "    X = np.vstack([x,y])\n",
        "    Y = np.copy(col).reshape([1, -1])\n",
        "    return X, Y\n",
        "X, Y = generateRoseData()\n",
        "np.savez_compressed('./data/rose/rose.npz', X=X, Y=Y)"
      ]
    },
    {
      "cell_type": "code",
      "execution_count": null,
      "metadata": {
        "id": "Rq4YAjRgYnam"
      },
      "outputs": [],
      "source": []
    },
    {
      "cell_type": "markdown",
      "metadata": {
        "id": "cBlwWwKQYnam"
      },
      "source": [
        "### Processing Andrews CatvNotCat data"
      ]
    },
    {
      "cell_type": "code",
      "execution_count": null,
      "metadata": {
        "id": "2lkHWbzVYnam"
      },
      "outputs": [],
      "source": [
        "# If you get an error here, install h5py via pip3 install h5py\n",
        "import h5py"
      ]
    },
    {
      "cell_type": "code",
      "execution_count": null,
      "metadata": {
        "id": "HUyH9EvUYnam"
      },
      "outputs": [],
      "source": [
        "# Data downloaded from:\n",
        "# https://github.com/ridhimagarg/Cat-vs-Non-cat-Deep-learning-implementation\n",
        "def processCatData():\n",
        "    train_dataset = h5py.File(\"./data/cats/train_catvnoncat.h5\", mode='r')\n",
        "    Xtrain = np.array(train_dataset[\"train_set_x\"])\n",
        "    Y_train = np.array(train_dataset[\"train_set_y\"])\n",
        "    test_dataset = h5py.File(\"./data/cats/test_catvnoncat.h5\", mode='r')\n",
        "    Xtest = np.array(test_dataset[\"test_set_x\"])\n",
        "    Y_test = np.array(test_dataset[\"test_set_y\"])\n",
        "    X_train = Xtrain / 255\n",
        "    X_test = Xtest / 255\n",
        "    X_train = X_train.reshape(209, -1).T\n",
        "    Y_train = Y_train.reshape(-1, 209)\n",
        "    X_test = X_test.reshape(50, -1).T\n",
        "    Y_test = Y_test.reshape(-1, 50)\n",
        "    return X_train, X_test, Y_train, Y_test\n",
        "Xtrain, Xtest, Ytrain, Ytest = processCatData()\n",
        "np.savez_compressed('./data/cats/cats.npz', Xtrain=Xtrain, Xtest=Xtest, Ytrain=Ytrain, Ytest=Ytest)"
      ]
    },
    {
      "cell_type": "code",
      "execution_count": null,
      "metadata": {
        "id": "cofYYytwRk5Q"
      },
      "outputs": [],
      "source": []
    },
    {
      "cell_type": "markdown",
      "metadata": {
        "id": "iy2XhQSoYnan"
      },
      "source": [
        "# Credits\n",
        "#### Edwin Solares - Updates to Questions and Dataset, Conversion to google colab, conversion to Tensorflow and Keras and preprocessing data to work with Keras.\n",
        "https://linkedin.com/in/dennisbakhuis/ \\\n",
        "https://github.com/dennisbakhuis\n"
      ]
    }
  ],
  "metadata": {
    "colab": {
      "provenance": [],
      "include_colab_link": true
    },
    "kernelspec": {
      "display_name": "Python 3 (ipykernel)",
      "language": "python",
      "name": "python3"
    },
    "language_info": {
      "codemirror_mode": {
        "name": "ipython",
        "version": 3
      },
      "file_extension": ".py",
      "mimetype": "text/x-python",
      "name": "python",
      "nbconvert_exporter": "python",
      "pygments_lexer": "ipython3",
      "version": "3.8.10"
    }
  },
  "nbformat": 4,
  "nbformat_minor": 0
}