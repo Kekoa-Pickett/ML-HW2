{
  "cells": [
    {
      "cell_type": "markdown",
      "metadata": {
        "id": "view-in-github",
        "colab_type": "text"
      },
      "source": [
        "<a href=\"https://colab.research.google.com/github/Kekoa-Pickett/ML-HW2/blob/main/hw5.ipynb\" target=\"_parent\"><img src=\"https://colab.research.google.com/assets/colab-badge.svg\" alt=\"Open In Colab\"/></a>"
      ]
    },
    {
      "cell_type": "markdown",
      "metadata": {
        "id": "dhTEdM56b3-n"
      },
      "source": [
        "### Download the data\n",
        "Let's download and uncompress our data and images here:"
      ]
    },
    {
      "cell_type": "code",
      "execution_count": 67,
      "metadata": {
        "colab": {
          "base_uri": "https://localhost:8080/",
          "height": 357
        },
        "id": "gMPNGHDXbxEw",
        "outputId": "a0375f99-8069-4b38-dadf-743c57b55145"
      },
      "outputs": [
        {
          "output_type": "display_data",
          "data": {
            "text/plain": [
              "'Linux'"
            ],
            "application/vnd.google.colaboratory.intrinsic+json": {
              "type": "string"
            }
          },
          "metadata": {}
        },
        {
          "output_type": "stream",
          "name": "stdout",
          "text": [
            "replace assets/flower.png? [y]es, [n]o, [A]ll, [N]one, [r]ename: y\n",
            "replace assets/flowerfit.png? [y]es, [n]o, [A]ll, [N]one, [r]ename: y\n",
            "replace assets/LogisticRegression.png? [y]es, [n]o, [A]ll, [N]one, [r]ename: y\n",
            "replace assets/mayTheFourth.gif? [y]es, [n]o, [A]ll, [N]one, [r]ename: y\n",
            "replace assets/NeuralNetwork.key? [y]es, [n]o, [A]ll, [N]one, [r]ename: y\n",
            "replace assets/NeuralNetwork.png? [y]es, [n]o, [A]ll, [N]one, [r]ename: y\n",
            "replace assets/NeuralNetwork2.png? [y]es, [n]o, [A]ll, [N]one, [r]ename: y\n",
            "replace assets/NeuralNetworksSWedition.png? [y]es, [n]o, [A]ll, [N]one, [r]ename: y\n",
            "replace assets/nngeneralization.png? [y]es, [n]o, [A]ll, [N]one, [r]ename: y\n",
            "replace assets/results_darthvader.png? [y]es, [n]o, [A]ll, [N]one, [r]ename: y\n",
            "replace assets/singlelayer.png? [y]es, [n]o, [A]ll, [N]one, [r]ename: y\n",
            "replace data/cats/cats.npz? [y]es, [n]o, [A]ll, [N]one, [r]ename: y\n",
            "replace data/cats/test_catvnoncat.h5? [y]es, [n]o, [A]ll, [N]one, [r]ename: y\n",
            "replace data/cats/train_catvnoncat.h5? [y]es, [n]o, [A]ll, [N]one, [r]ename: y\n",
            "replace data/mayTheFourth/darth.jpeg? [y]es, [n]o, [A]ll, [N]one, [r]ename: y\n",
            "replace data/mayTheFourth/mayTheFourth.npz? [y]es, [n]o, [A]ll, [N]one, [r]ename: y\n",
            "replace data/rose/rose.npz? [y]es, [n]o, [A]ll, [N]one, [r]ename: y\n",
            "replace data/titanic/train_data.csv? [y]es, [n]o, [A]ll, [N]one, [r]ename: y\n"
          ]
        }
      ],
      "source": [
        "import platform\n",
        "display(platform.system())\n",
        "import os\n",
        "file_download_link = 'https://www.dropbox.com/scl/fi/x4vhkglosags3qmg4h0p2/hw3data.zip?rlkey=kke6onzuc2rajohgislutjgg7&dl=0'\n",
        "if os.name == 'nt':\n",
        "    print('Please download your dataset here:', file_download_link)\n",
        "else:\n",
        "    # We need to first download the data here:\n",
        "    !wget -O data.zip \"$file_download_link\" -o /dev/null\n",
        "    !unzip data.zip > /dev/null"
      ]
    },
    {
      "cell_type": "code",
      "execution_count": null,
      "metadata": {
        "id": "k8pzndEXoGoF"
      },
      "outputs": [],
      "source": [
        "# If your data is on google drive then uncomment the code below to access\n",
        "# your google drive.\n",
        "#from google.colab import drive\n",
        "#drive.mount('/content/drive')"
      ]
    },
    {
      "cell_type": "markdown",
      "metadata": {
        "id": "PUrkSv1vSaRQ"
      },
      "source": [
        "## Running Tensorflow Keras on our Titanic dataset (25 points)\n",
        "[tf.keras.models](https://www.tensorflow.org/api_docs/python/tf/keras/Model), [tf.keras.layers](https://www.tensorflow.org/api_docs/python/tf/keras/layers/Layer)\n",
        "### Q1: We will now implement customization via Keras. Be creative building you NN.\n",
        "Make sure you set the verbose parameter to 0 when you train your model. Not doing so will result in your TA's being unable to grade your submission.\n",
        "You can use history to plot your Loss/Metrics.\n",
        "Make sure you generate a Loss/Metrics plot for each question."
      ]
    },
    {
      "cell_type": "code",
      "execution_count": 68,
      "metadata": {
        "id": "qwAdEE9sSwUH"
      },
      "outputs": [],
      "source": [
        "# Prerequisite library imports\n",
        "import pandas as pd\n",
        "import tensorflow as tf\n",
        "from sklearn.model_selection import train_test_split\n",
        "from tensorflow import keras\n",
        "from keras.models import Sequential\n",
        "from keras.layers import Dense\n",
        "\n",
        "# Let's reimport our data\n",
        "df = pd.read_csv('./data/titanic/train_data.csv')\n",
        "X = df.drop(['Unnamed: 0', 'PassengerId'], axis=1)\n",
        "y = df['Survived']\n",
        "X = X.drop(columns = 'Survived')"
      ]
    },
    {
      "cell_type": "markdown",
      "metadata": {
        "id": "LVC85pIxYnae"
      },
      "source": [
        "### 1.1) Based on the imports above we will use those keras libraries to build our models. Here we want to implement a form of scaling to your data either minmax normalization or standardization using the sklearn.preprocessing libraries. Justify why you chose one over the other. Is this classfication or regression? Then make a basic neural network, you will compare the performance of this basic network to ones you develop later (10 points)"
      ]
    },
    {
      "cell_type": "markdown",
      "metadata": {
        "id": "_I8JzfHvOSQv"
      },
      "source": [
        "**Answer:**"
      ]
    },
    {
      "cell_type": "code",
      "execution_count": null,
      "metadata": {
        "id": "xKhAcFmxs5es"
      },
      "outputs": [],
      "source": [
        "X_train, X_test, y_train, y_test = train_test_split(X, y, test_size=0.2, random_state=21)\n",
        "display(X_train.shape)\n",
        "display(y_train.shape)"
      ]
    },
    {
      "cell_type": "code",
      "execution_count": 69,
      "metadata": {
        "colab": {
          "base_uri": "https://localhost:8080/",
          "height": 53
        },
        "id": "Nx20c4BOPLLt",
        "outputId": "87e5675c-b2d4-4a59-963b-aafda2caec80"
      },
      "outputs": [
        {
          "output_type": "display_data",
          "data": {
            "text/plain": [
              "(633, 14)"
            ]
          },
          "metadata": {}
        },
        {
          "output_type": "display_data",
          "data": {
            "text/plain": [
              "(633,)"
            ]
          },
          "metadata": {}
        }
      ],
      "source": [
        "# Please do your scalarization of X here: (after train test split).\n",
        "# Scalarization means normalizing or standardizing\n",
        "import sklearn.preprocessing\n",
        "from sklearn.preprocessing import MinMaxScaler\n",
        "\n",
        "scaler = MinMaxScaler()\n",
        "X_train = scaler.fit_transform(X_train)\n",
        "X_test = scaler.transform(X_test)\n",
        "display(X_train.shape)\n",
        "display(y_train.shape)\n"
      ]
    },
    {
      "cell_type": "code",
      "source": [
        "!pip install scikeras"
      ],
      "metadata": {
        "collapsed": true,
        "id": "276S4WI3TuFk",
        "outputId": "27f5ceef-72da-4308-f8a5-4061bca0ed29",
        "colab": {
          "base_uri": "https://localhost:8080/"
        }
      },
      "execution_count": 73,
      "outputs": [
        {
          "output_type": "stream",
          "name": "stdout",
          "text": [
            "Requirement already satisfied: scikeras in /usr/local/lib/python3.10/dist-packages (0.13.0)\n",
            "Requirement already satisfied: keras>=3.2.0 in /usr/local/lib/python3.10/dist-packages (from scikeras) (3.5.0)\n",
            "Requirement already satisfied: scikit-learn>=1.4.2 in /usr/local/lib/python3.10/dist-packages (from scikeras) (1.5.2)\n",
            "Requirement already satisfied: absl-py in /usr/local/lib/python3.10/dist-packages (from keras>=3.2.0->scikeras) (1.4.0)\n",
            "Requirement already satisfied: numpy in /usr/local/lib/python3.10/dist-packages (from keras>=3.2.0->scikeras) (1.26.4)\n",
            "Requirement already satisfied: rich in /usr/local/lib/python3.10/dist-packages (from keras>=3.2.0->scikeras) (13.9.4)\n",
            "Requirement already satisfied: namex in /usr/local/lib/python3.10/dist-packages (from keras>=3.2.0->scikeras) (0.0.8)\n",
            "Requirement already satisfied: h5py in /usr/local/lib/python3.10/dist-packages (from keras>=3.2.0->scikeras) (3.12.1)\n",
            "Requirement already satisfied: optree in /usr/local/lib/python3.10/dist-packages (from keras>=3.2.0->scikeras) (0.13.1)\n",
            "Requirement already satisfied: ml-dtypes in /usr/local/lib/python3.10/dist-packages (from keras>=3.2.0->scikeras) (0.4.1)\n",
            "Requirement already satisfied: packaging in /usr/local/lib/python3.10/dist-packages (from keras>=3.2.0->scikeras) (24.2)\n",
            "Requirement already satisfied: scipy>=1.6.0 in /usr/local/lib/python3.10/dist-packages (from scikit-learn>=1.4.2->scikeras) (1.13.1)\n",
            "Requirement already satisfied: joblib>=1.2.0 in /usr/local/lib/python3.10/dist-packages (from scikit-learn>=1.4.2->scikeras) (1.4.2)\n",
            "Requirement already satisfied: threadpoolctl>=3.1.0 in /usr/local/lib/python3.10/dist-packages (from scikit-learn>=1.4.2->scikeras) (3.5.0)\n",
            "Requirement already satisfied: typing-extensions>=4.5.0 in /usr/local/lib/python3.10/dist-packages (from optree->keras>=3.2.0->scikeras) (4.12.2)\n",
            "Requirement already satisfied: markdown-it-py>=2.2.0 in /usr/local/lib/python3.10/dist-packages (from rich->keras>=3.2.0->scikeras) (3.0.0)\n",
            "Requirement already satisfied: pygments<3.0.0,>=2.13.0 in /usr/local/lib/python3.10/dist-packages (from rich->keras>=3.2.0->scikeras) (2.18.0)\n",
            "Requirement already satisfied: mdurl~=0.1 in /usr/local/lib/python3.10/dist-packages (from markdown-it-py>=2.2.0->rich->keras>=3.2.0->scikeras) (0.1.2)\n"
          ]
        }
      ]
    },
    {
      "cell_type": "code",
      "execution_count": 120,
      "metadata": {
        "id": "jIHVwzIYSZjB",
        "colab": {
          "base_uri": "https://localhost:8080/"
        },
        "outputId": "4eac84b9-d275-4150-b929-e906eb453e0b"
      },
      "outputs": [
        {
          "output_type": "stream",
          "name": "stderr",
          "text": [
            "/usr/local/lib/python3.10/dist-packages/keras/src/layers/core/dense.py:87: UserWarning: Do not pass an `input_shape`/`input_dim` argument to a layer. When using Sequential models, prefer using an `Input(shape)` object as the first layer in the model instead.\n",
            "  super().__init__(activity_regularizer=activity_regularizer, **kwargs)\n"
          ]
        }
      ],
      "source": [
        "# Write your model, and training here\n",
        "model = Sequential()\n",
        "model.add(Dense(units = 1, activation = 'relu', input_dim = X_train.shape[1]))\n",
        "# model.add(Dense(units = 1, activation = 'sigmoid'))"
      ]
    },
    {
      "cell_type": "markdown",
      "metadata": {
        "id": "mnxn0OJvKbxP"
      },
      "source": [
        "### Now lets compile our model using the function compile\n",
        "### Here we will use rmsprop as an optimizer and binary crossentropy as our loss function"
      ]
    },
    {
      "cell_type": "code",
      "execution_count": 121,
      "metadata": {
        "id": "kuLxxVo9KQrt"
      },
      "outputs": [],
      "source": [
        "model.compile(optimizer = 'rmsprop', loss = 'binary_crossentropy')"
      ]
    },
    {
      "cell_type": "code",
      "source": [
        "from scikeras.wrappers import KerasClassifier\n",
        "from sklearn.metrics import classification_report\n",
        "\n",
        "estimator = KerasClassifier(model= model, epochs= 20, verbose = 0)\n",
        "estimator.fit(X_train, y_train, verbose =0)\n",
        "yhat_keras = estimator.predict(X_test)\n",
        "\n",
        "print(classification_report(y_test, yhat_keras))"
      ],
      "metadata": {
        "id": "1tgL_q2ZSjiC",
        "outputId": "f24d1f87-5d18-4d15-fec5-a24849881732",
        "colab": {
          "base_uri": "https://localhost:8080/"
        }
      },
      "execution_count": 122,
      "outputs": [
        {
          "output_type": "stream",
          "name": "stderr",
          "text": [
            "WARNING:tensorflow:5 out of the last 11 calls to <function TensorFlowTrainer.make_predict_function.<locals>.one_step_on_data_distributed at 0x7f7914685630> triggered tf.function retracing. Tracing is expensive and the excessive number of tracings could be due to (1) creating @tf.function repeatedly in a loop, (2) passing tensors with different shapes, (3) passing Python objects instead of tensors. For (1), please define your @tf.function outside of the loop. For (2), @tf.function has reduce_retracing=True option that can avoid unnecessary retracing. For (3), please refer to https://www.tensorflow.org/guide/function#controlling_retracing and https://www.tensorflow.org/api_docs/python/tf/function for  more details.\n"
          ]
        },
        {
          "output_type": "stream",
          "name": "stdout",
          "text": [
            "              precision    recall  f1-score   support\n",
            "\n",
            "           0       0.57      0.84      0.68        92\n",
            "           1       0.35      0.12      0.18        67\n",
            "\n",
            "    accuracy                           0.53       159\n",
            "   macro avg       0.46      0.48      0.43       159\n",
            "weighted avg       0.47      0.53      0.47       159\n",
            "\n"
          ]
        }
      ]
    },
    {
      "cell_type": "markdown",
      "metadata": {
        "id": "6ru-Sg5jYnae"
      },
      "source": [
        "### 1.2) Using the example for traindata above create a model using different activation functions by setting MYACTIVATIONFXN: (10 points)\n",
        "\n",
        "Here is the example code you can use to build your own DNN after you check the shape of your X matrix. Similar to HW4\n",
        "```python\n",
        "# Hint! You can start with model.add(Dense(units = 16, activation = 'relu', input_dim = ?))\n",
        "# Make sure the input_dim parameter is set to the number of features in your X matrix.\n",
        "MYACTIVATIONFXN = 'SOMEFXN'\n",
        "model.add(Dense(units = 14, activation = MYACTIVATIONFXN, input_dim = ?))\n",
        "```\n"
      ]
    },
    {
      "cell_type": "code",
      "execution_count": 123,
      "metadata": {
        "id": "mPxlO3Xwtayb"
      },
      "outputs": [],
      "source": [
        "# Let's initialize our model\n",
        "model = Sequential() # Initialising the ANN/DNN"
      ]
    },
    {
      "cell_type": "code",
      "execution_count": 124,
      "metadata": {
        "id": "SHWjAD8Otzbl",
        "colab": {
          "base_uri": "https://localhost:8080/"
        },
        "outputId": "7e810558-2051-4622-f9d1-8371a7581f53"
      },
      "outputs": [
        {
          "output_type": "execute_result",
          "data": {
            "text/plain": [
              "(792, 14)"
            ]
          },
          "metadata": {},
          "execution_count": 124
        }
      ],
      "source": [
        "# Let's Check the shape of our data!\n",
        "# This should match your input layer\n",
        "X.shape"
      ]
    },
    {
      "cell_type": "code",
      "execution_count": 125,
      "metadata": {
        "id": "U6D4qvTGYnaf",
        "colab": {
          "base_uri": "https://localhost:8080/"
        },
        "outputId": "4390d59d-3985-4b1b-e7c9-2b697c898e81"
      },
      "outputs": [
        {
          "output_type": "stream",
          "name": "stderr",
          "text": [
            "/usr/local/lib/python3.10/dist-packages/keras/src/layers/core/dense.py:87: UserWarning: Do not pass an `input_shape`/`input_dim` argument to a layer. When using Sequential models, prefer using an `Input(shape)` object as the first layer in the model instead.\n",
            "  super().__init__(activity_regularizer=activity_regularizer, **kwargs)\n"
          ]
        }
      ],
      "source": [
        "# If you decide to initially use a sigmoid, make sure the number of units matches the number of targets\n",
        "# in this case we only have 1 target so for sigmoid you need to set units to 1\n",
        "# Please use the example code above in the hint.\n",
        "MYACTIVATIONFXN = 'relu'\n",
        "model.add(Dense(units = 1, activation = MYACTIVATIONFXN, input_dim = X.shape[1]))\n"
      ]
    },
    {
      "cell_type": "markdown",
      "metadata": {
        "id": "yfInuSI-UH0O"
      },
      "source": [
        "### Now lets compile our model using the function compile\n",
        "### Here we will use rmsprop as an optimizer and binary crossentropy as our loss function"
      ]
    },
    {
      "cell_type": "code",
      "execution_count": 126,
      "metadata": {
        "id": "FPF064_rUIGk"
      },
      "outputs": [],
      "source": [
        "model.compile(optimizer = 'rmsprop', loss = 'binary_crossentropy')\n"
      ]
    },
    {
      "cell_type": "markdown",
      "metadata": {
        "id": "kJEr9VGaQjxY"
      },
      "source": [
        "Implement tensorflows [early stopping](https://www.tensorflow.org/api_docs/python/tf/keras/callbacks/EarlyStopping) library. Feel free to play with the settings and parameters"
      ]
    },
    {
      "cell_type": "code",
      "execution_count": 129,
      "metadata": {
        "id": "yfEfQQlfQjAR"
      },
      "outputs": [],
      "source": [
        "early_stopping = tf.keras.callbacks.EarlyStopping(\n",
        "    monitor='val_loss',\n",
        "    min_delta=0,\n",
        "    patience=0,\n",
        "    verbose=0,\n",
        "    mode='auto',\n",
        "    baseline=None,\n",
        "    restore_best_weights=False,\n",
        "    start_from_epoch=0\n",
        ")"
      ]
    },
    {
      "cell_type": "markdown",
      "metadata": {
        "id": "8xXvT24DUlRF"
      },
      "source": [
        "### Here we will run our ANN/DNN using the fit function using a batch size of 1 and 10 epochs\n",
        "Early stopping has been added to your model.fit call"
      ]
    },
    {
      "cell_type": "code",
      "execution_count": 135,
      "metadata": {
        "id": "ELg4LXeYUpdx",
        "colab": {
          "base_uri": "https://localhost:8080/"
        },
        "outputId": "dfa8ed46-8ce6-4171-cde4-34bb4ecf4b64"
      },
      "outputs": [
        {
          "output_type": "stream",
          "name": "stderr",
          "text": [
            "/usr/local/lib/python3.10/dist-packages/keras/src/callbacks/early_stopping.py:155: UserWarning: Early stopping conditioned on metric `val_loss` which is not available. Available metrics are: loss\n",
            "  current = self.get_monitor_value(logs)\n"
          ]
        }
      ],
      "source": [
        "# I have provided the code for you here:\n",
        "# Feel free to play around with the code as you please\n",
        "history = model.fit(X_train.astype('float'), y_train, batch_size = 1, epochs = 10, callbacks = [early_stopping], verbose = 0)\n"
      ]
    },
    {
      "cell_type": "markdown",
      "metadata": {
        "id": "2AOBK9hbYnaf"
      },
      "source": [
        "### 1.3) How does the error (in terms of accuracy, precision or recall) differ between the models you developed (latest model vs basic model above)? Write in one paragraph or less how the error differs and why. (5 points)"
      ]
    },
    {
      "cell_type": "markdown",
      "metadata": {
        "id": "gm1PVZOAPLLx"
      },
      "source": [
        "**Answer:** The biggest difference happens with everything when it comes to true values. With the callback, we were a lot more accurate than using my original model. With this new function, we are looking at small sample sizes and making sure we don't overfit which is why our scores are better, as it is more complex."
      ]
    },
    {
      "cell_type": "code",
      "execution_count": 137,
      "metadata": {
        "id": "fP8EYlBUYnaf",
        "colab": {
          "base_uri": "https://localhost:8080/"
        },
        "outputId": "981b2455-cecf-4ad7-d6ee-f2bbbee72c76"
      },
      "outputs": [
        {
          "output_type": "stream",
          "name": "stdout",
          "text": [
            "\u001b[1m5/5\u001b[0m \u001b[32m━━━━━━━━━━━━━━━━━━━━\u001b[0m\u001b[37m\u001b[0m \u001b[1m0s\u001b[0m 2ms/step \n",
            "Callback: \n",
            "               precision    recall  f1-score   support\n",
            "\n",
            "           0       0.73      0.88      0.80        92\n",
            "           1       0.77      0.55      0.64        67\n",
            "\n",
            "    accuracy                           0.74       159\n",
            "   macro avg       0.75      0.72      0.72       159\n",
            "weighted avg       0.75      0.74      0.73       159\n",
            "\n",
            "Keras: \n",
            "               precision    recall  f1-score   support\n",
            "\n",
            "           0       0.57      0.84      0.68        92\n",
            "           1       0.35      0.12      0.18        67\n",
            "\n",
            "    accuracy                           0.53       159\n",
            "   macro avg       0.46      0.48      0.43       159\n",
            "weighted avg       0.47      0.53      0.47       159\n",
            "\n"
          ]
        }
      ],
      "source": [
        "# Hint! Use the predict function if you don't have logits you will need to threshold your results. 0.5 is reasonable.\n",
        "# Please see the BCC jupyter notebook to see how to do this\n",
        "# Predict your train, test\n",
        "# Evaluate your history\n",
        "yhat_hist = model.predict(X_test.astype('float'))\n",
        "yhat_hist = (yhat_hist > 0.5) * 1\n",
        "print(\"Callback: \\n\", classification_report(y_test, yhat_hist))\n",
        "print(\"Keras: \\n\", classification_report(y_test, yhat_keras))"
      ]
    },
    {
      "cell_type": "markdown",
      "metadata": {
        "id": "cH4ltuutPpgr"
      },
      "source": []
    },
    {
      "cell_type": "markdown",
      "metadata": {
        "id": "NfKWyWNHYnaf"
      },
      "source": [
        "## 2) Complex fit of flowers (30 points)"
      ]
    },
    {
      "cell_type": "markdown",
      "metadata": {
        "id": "A_PTyVq4Ynaf"
      },
      "source": [
        "The cool stuff starts with more complex functions. The [Deep learning course from Andrew Ng](https://www.coursera.org/learn/neural-networks-deep-learning?specialization=deep-learning) show a way to predict [Rose-functions](https://en.wikipedia.org/wiki/Rose_(mathematics)) using a model with multiple nodes. Lets try that as well! This is similar to our example on tf playground.\n",
        "\n",
        "Let's get started!\n",
        "\n",
        "First we need to import the data:"
      ]
    },
    {
      "cell_type": "code",
      "execution_count": 136,
      "metadata": {
        "id": "qMMal0QFYnaf"
      },
      "outputs": [],
      "source": [
        "import numpy as np\n",
        "data = np.load('./data/rose/rose.npz')\n",
        "X, Y = data['X'], data['Y']"
      ]
    },
    {
      "cell_type": "markdown",
      "metadata": {
        "id": "Zo5iuacCYnaf"
      },
      "source": [
        "To give a feel how it looks, we will first plot the rose, which has 7 petals:"
      ]
    },
    {
      "cell_type": "code",
      "execution_count": 138,
      "metadata": {
        "id": "od7DDx7YYnaf"
      },
      "outputs": [],
      "source": [
        "import matplotlib.pyplot as plt\n",
        "def testModelKeras(X, y, model, h=0.1, f=1.05):\n",
        "    r = X.max()\n",
        "    xmesh, ymesh = np.meshgrid(np.arange(-r*f, r*f+h, h), np.arange(-r*f, r*f+h, h))\n",
        "    Z = model.predict(((np.c_[xmesh.ravel(), ymesh.ravel()])))\n",
        "    Z = (Z > 0.5) * 1\n",
        "    Z = Z.T.reshape(xmesh.shape)\n",
        "    plt.contourf(xmesh, ymesh, Z, cmap=plt.cm.OrRd)\n",
        "    plt.scatter(X[:,0], X[:,1], c=y.flatten().T, cmap=plt.cm.OrRd)"
      ]
    },
    {
      "cell_type": "code",
      "execution_count": 139,
      "metadata": {
        "id": "kuZmpnJAYnag",
        "colab": {
          "base_uri": "https://localhost:8080/",
          "height": 540
        },
        "outputId": "94b9ea93-fa8e-4230-c331-12f957242a88"
      },
      "outputs": [
        {
          "output_type": "execute_result",
          "data": {
            "text/plain": [
              "<matplotlib.collections.PathCollection at 0x7f7903c629e0>"
            ]
          },
          "metadata": {},
          "execution_count": 139
        },
        {
          "output_type": "display_data",
          "data": {
            "text/plain": [
              "<Figure size 600x600 with 1 Axes>"
            ],
            "image/png": "[encoded data removed]"
          },
          "metadata": {}
        }
      ],
      "source": [
        "fig, ax = plt.subplots(1, 1, figsize=(6, 6))\n",
        "plt.scatter(X[0,:], X[1,:], c=Y.flatten())"
      ]
    },
    {
      "cell_type": "markdown",
      "metadata": {
        "id": "YwZQztEbOLHe"
      },
      "source": []
    },
    {
      "cell_type": "markdown",
      "metadata": {
        "id": "nJYtVl06a1Fu"
      },
      "source": [
        "#### Q2: We will now implement customization via TensorFlow Keras"
      ]
    },
    {
      "cell_type": "code",
      "execution_count": 140,
      "metadata": {
        "id": "cZF8N-qpbJ-M",
        "colab": {
          "base_uri": "https://localhost:8080/",
          "height": 88
        },
        "outputId": "1d6e3410-66f8-4663-bb77-f926f4ab6209"
      },
      "outputs": [
        {
          "output_type": "display_data",
          "data": {
            "text/plain": [
              "(688, 2)"
            ]
          },
          "metadata": {}
        },
        {
          "output_type": "display_data",
          "data": {
            "text/plain": [
              "(688, 1)"
            ]
          },
          "metadata": {}
        },
        {
          "output_type": "display_data",
          "data": {
            "text/plain": [
              "(550, 2)"
            ]
          },
          "metadata": {}
        },
        {
          "output_type": "display_data",
          "data": {
            "text/plain": [
              "(550, 1)"
            ]
          },
          "metadata": {}
        }
      ],
      "source": [
        "import numpy as np\n",
        "data = np.load('./data/rose/rose.npz')\n",
        "X, y = data['X'].transpose(), data['Y'].transpose()\n",
        "display(X.shape)\n",
        "display(y.shape)\n",
        "\n",
        "X_train, X_test, y_train, y_test = train_test_split(X, y, test_size=0.2, random_state=21)\n",
        "display(X_train.shape)\n",
        "display(y_train.shape)\n",
        "\n",
        "# Let's initialize our model\n",
        "model = Sequential() # Initialising the ANN"
      ]
    },
    {
      "cell_type": "markdown",
      "metadata": {
        "id": "IaSeK8fpYnah"
      },
      "source": [
        "### 2.1) Using the example above, try different number of nodes(units) and different activation functions and build at least one or two models that shows some of your experimentation. How does your loss change? Is this classification or regression? Enter your answer below and why. (10 points)\n",
        "Use history to extract the history of your metrics and loss\n",
        "\n",
        "Enable call backs as you did in Q1\n",
        "\n",
        "Please store your models and experimentation in different variables"
      ]
    },
    {
      "cell_type": "markdown",
      "metadata": {
        "id": "TVFQjmsSPLL0"
      },
      "source": [
        "**Answer:**"
      ]
    },
    {
      "cell_type": "code",
      "execution_count": 171,
      "metadata": {
        "id": "hUa1-L50Ynah",
        "colab": {
          "base_uri": "https://localhost:8080/"
        },
        "outputId": "88b9bc7f-624a-4863-8679-26ec09348f94"
      },
      "outputs": [
        {
          "output_type": "stream",
          "name": "stderr",
          "text": [
            "/usr/local/lib/python3.10/dist-packages/keras/src/layers/core/dense.py:87: UserWarning: Do not pass an `input_shape`/`input_dim` argument to a layer. When using Sequential models, prefer using an `Input(shape)` object as the first layer in the model instead.\n",
            "  super().__init__(activity_regularizer=activity_regularizer, **kwargs)\n"
          ]
        }
      ],
      "source": [
        "# build your model\n",
        "MYACTIVATIONFXN = 'relu'\n",
        "model.add(Dense(units = 14, activation = MYACTIVATIONFXN, input_dim = X_train.shape[1]))\n",
        "model.add(Dense(units = 14, activation = MYACTIVATIONFXN))\n",
        "model.add(Dense(units = 1, activation = MYACTIVATIONFXN))"
      ]
    },
    {
      "cell_type": "code",
      "execution_count": 172,
      "metadata": {
        "id": "NL_ieFi1RS_x"
      },
      "outputs": [],
      "source": [
        "# compile your model\n",
        "model.compile(optimizer = 'rmsprop', loss = 'binary_crossentropy')"
      ]
    },
    {
      "cell_type": "code",
      "execution_count": 173,
      "metadata": {
        "id": "opy06KYbRW_u"
      },
      "outputs": [],
      "source": [
        "# set up your early stopping call backs\n",
        "early_stopping = tf.keras.callbacks.EarlyStopping()"
      ]
    },
    {
      "cell_type": "code",
      "execution_count": 176,
      "metadata": {
        "id": "YdwIYLZ2P3HP",
        "colab": {
          "base_uri": "https://localhost:8080/"
        },
        "outputId": "081f22f1-db68-43f2-ff10-4765e58dbe85"
      },
      "outputs": [
        {
          "output_type": "stream",
          "name": "stdout",
          "text": [
            "\u001b[1m5/5\u001b[0m \u001b[32m━━━━━━━━━━━━━━━━━━━━\u001b[0m\u001b[37m\u001b[0m \u001b[1m0s\u001b[0m 7ms/step \n",
            "              precision    recall  f1-score   support\n",
            "\n",
            "           0       0.83      0.73      0.78        86\n",
            "           1       0.63      0.75      0.68        52\n",
            "\n",
            "    accuracy                           0.74       138\n",
            "   macro avg       0.73      0.74      0.73       138\n",
            "weighted avg       0.75      0.74      0.74       138\n",
            "\n",
            "{'loss': [0.6156971454620361, 0.6143335700035095, 0.6119261980056763, 0.6139634251594543, 0.6115899682044983, 0.6124073266983032, 0.613021731376648, 0.6116583347320557, 0.6139084100723267, 0.6116378307342529]}\n"
          ]
        }
      ],
      "source": [
        "history_tenflw = model.fit(X_train.astype('float'), y_train, batch_size = 10, epochs = 10, verbose = 0)\n",
        "yhat_tensflw = model.predict(X_test.astype('float'))\n",
        "yhat_tensflw = (yhat_tensflw > 0.5) * 1\n",
        "print(classification_report(y_test, yhat_tensflw))\n",
        "print(history_tenflw.history)"
      ]
    },
    {
      "cell_type": "code",
      "source": [
        "print(history_tenflw.history)"
      ],
      "metadata": {
        "id": "oOUkflyApGMp",
        "outputId": "9ac187f0-6888-4e63-c412-fa579b7ff77a",
        "colab": {
          "base_uri": "https://localhost:8080/"
        }
      },
      "execution_count": 166,
      "outputs": [
        {
          "output_type": "stream",
          "name": "stdout",
          "text": [
            "{'loss': [7.15057373046875, 7.15057373046875, 7.15057373046875, 7.150573253631592, 7.150572776794434, 7.15057373046875, 7.15057373046875, 7.15057373046875, 7.15057373046875, 7.15057373046875]}\n"
          ]
        }
      ]
    },
    {
      "cell_type": "markdown",
      "metadata": {
        "id": "aVKN7RMLYnah"
      },
      "source": [
        "### 2.2) Using 2.1 as a reference, create two new models and calculate your new error using classification report. Also, using the metrics, explain why you see the same or why you see a different error. (10 points)"
      ]
    },
    {
      "cell_type": "markdown",
      "metadata": {
        "id": "NgpEo3uSPLL5"
      },
      "source": [
        "**Answer:**"
      ]
    },
    {
      "cell_type": "code",
      "execution_count": 184,
      "metadata": {
        "id": "nvi8QHpjYnah",
        "colab": {
          "base_uri": "https://localhost:8080/"
        },
        "outputId": "6fc27866-2b76-43a2-aaf3-f03147c5db19"
      },
      "outputs": [
        {
          "output_type": "stream",
          "name": "stderr",
          "text": [
            "/usr/local/lib/python3.10/dist-packages/keras/src/layers/core/dense.py:87: UserWarning: Do not pass an `input_shape`/`input_dim` argument to a layer. When using Sequential models, prefer using an `Input(shape)` object as the first layer in the model instead.\n",
            "  super().__init__(activity_regularizer=activity_regularizer, **kwargs)\n"
          ]
        },
        {
          "output_type": "stream",
          "name": "stdout",
          "text": [
            "\u001b[1m5/5\u001b[0m \u001b[32m━━━━━━━━━━━━━━━━━━━━\u001b[0m\u001b[37m\u001b[0m \u001b[1m0s\u001b[0m 15ms/step\n",
            "              precision    recall  f1-score   support\n",
            "\n",
            "           0       0.96      0.99      0.97        86\n",
            "           1       0.98      0.92      0.95        52\n",
            "\n",
            "    accuracy                           0.96       138\n",
            "   macro avg       0.97      0.96      0.96       138\n",
            "weighted avg       0.96      0.96      0.96       138\n",
            "\n"
          ]
        }
      ],
      "source": [
        "MYACTIVATIONFXN = 'tanh'\n",
        "model2 = Sequential() # Initialising the ANN\n",
        "model2.add(Dense(units = 14, activation = MYACTIVATIONFXN, input_dim = X_train.shape[1]))\n",
        "model2.add(Dense(units = 1, activation = MYACTIVATIONFXN))\n",
        "model2.compile(optimizer = 'rmsprop', loss = 'binary_crossentropy')\n",
        "history_tenflw2 = model2.fit(X_train.astype('float'), y_train, batch_size = 10, epochs = 10, verbose = 0)\n",
        "\n",
        "model3.add(Dense(units = 14, activation = MYACTIVATIONFXN, input_dim = X_train.shape[1]))\n",
        "model3.add(Dense(units = 1, activation = MYACTIVATIONFXN))\n",
        "model\n",
        "\n",
        "model2.fit(X_train, y_train, batch_size = 10, epochs = 20, verbose = 0)\n",
        "yhat_tensflw2 = model2.predict(X_test.astype('float'))\n",
        "yhat_tensflw2 = (yhat_tensflw2 > 0.5) * 1\n",
        "print(classification_report(y_test, yhat_tensflw2))"
      ]
    },
    {
      "cell_type": "markdown",
      "metadata": {
        "id": "TvcIw3pHYnah"
      },
      "source": [
        "### 2.3) Choose your best model! Now plot the new results using the plotting example shown above but using our newly trained best/coolest model. (10 points)"
      ]
    },
    {
      "cell_type": "code",
      "execution_count": null,
      "metadata": {
        "id": "gK14EFkPYnai"
      },
      "outputs": [],
      "source": []
    },
    {
      "cell_type": "markdown",
      "metadata": {
        "id": "oRRH5UW1Ynai"
      },
      "source": [
        "## 3) Cats vs not cats (40 points)"
      ]
    },
    {
      "cell_type": "markdown",
      "metadata": {
        "id": "KNymHxiNiY4S"
      },
      "source": [
        "#### Q3: Let's find some cute kittens!"
      ]
    },
    {
      "cell_type": "code",
      "execution_count": null,
      "metadata": {
        "id": "UVrE_ZFuiarQ"
      },
      "outputs": [],
      "source": [
        "import numpy as np\n",
        "data = np.load('./data/cats/cats.npz')\n",
        "X_train, y_train = data['Xtrain'].transpose(), data['Ytrain'].transpose()\n",
        "X_test, y_test = data['Xtest'].transpose(), data['Ytest'].transpose()\n",
        "display(X_train.shape)\n",
        "display(y_train.shape)\n",
        "\n",
        "# Let's initialize our model\n",
        "model = Sequential() # Initialising the ANN"
      ]
    },
    {
      "cell_type": "markdown",
      "metadata": {
        "id": "IrCvQs6NYnak"
      },
      "source": [
        "### 3.1) Same as before, build a new model with different number of hidden layers, nodes and activation functions. Describe reason for any similarity or difference (20 points)"
      ]
    },
    {
      "cell_type": "markdown",
      "metadata": {
        "id": "05iHktixPLL6"
      },
      "source": [
        "**Answer:**"
      ]
    },
    {
      "cell_type": "code",
      "execution_count": null,
      "metadata": {
        "id": "wmdATv6tYnak"
      },
      "outputs": [],
      "source": [
        "from keras.models import Sequential\n",
        "from keras.layers import Dense# Try using different iterations using a simple layout like above. 10, 100, 1000 epochs.\n",
        "# What happens with your loss?\n",
        "# I have written the basics of the code for you\n",
        "MYACTIVATIONFXN = 'relu'\n",
        "model.add(Dense(units = 128, activation = MYACTIVATIONFXN, input_dim = X_train.shape[1]))\n",
        "model.add(Dense(units = 64, activation = MYACTIVATIONFXN))\n",
        "model.add(Dense(units = 32, activation = MYACTIVATIONFXN))\n",
        "model.add(Dense(units = 16, activation = MYACTIVATIONFXN))\n",
        "model.add(Dense(units = 1, activation = 'sigmoid'))\n",
        "model.compile(optimizer = 'rmsprop', loss = 'binary_crossentropy')\n"
      ]
    },
    {
      "cell_type": "markdown",
      "metadata": {
        "id": "WM4YcSOcRjEk"
      },
      "source": [
        "Implement early stopping and [model checkpointing](https://www.tensorflow.org/api_docs/python/tf/keras/callbacks/ModelCheckpoint) to save your model weights. experiment with other call backs to get your best validation metric. For callbacks, you can save your weights and set up a monitor"
      ]
    },
    {
      "cell_type": "code",
      "execution_count": null,
      "metadata": {
        "id": "VGUrbX9ysgJJ"
      },
      "outputs": [],
      "source": [
        "early_stopping = tf.keras.callbacks.EarlyStopping(\n",
        "    #Enter your parameters\n",
        "\n",
        ")\n",
        "\n",
        "model_checkpoint = tf.keras.callbacks.ModelCheckpoint(\n",
        "    #Enter your paramaters\n",
        "\n",
        ")"
      ]
    },
    {
      "cell_type": "markdown",
      "metadata": {
        "id": "w6PLcpRxRxAJ"
      },
      "source": [
        "Let's fit our data!"
      ]
    },
    {
      "cell_type": "code",
      "execution_count": null,
      "metadata": {
        "id": "i8ZnyJyiRxMD"
      },
      "outputs": [],
      "source": [
        "history = model.fit(X_train.astype('float'), y_train, batch_size = 10, epochs = 100, callbacks = [early_stopping, model_checkpoint], verbose = 0)"
      ]
    },
    {
      "cell_type": "markdown",
      "metadata": {
        "id": "fpPlSApU0ea6"
      },
      "source": [
        "#### Try using different layers and activation function with different number of nodes\n",
        "What happens when you add convolutional layers? What happens to our training loss? </br>\n",
        "After intitializing your model, check if you need to rescale your data. If you do, make sure you [rescale](https://www.tensorflow.org/api_docs/python/tf/keras/layers/Rescaling) using: ``` keras.layers.Rescaling(1./255) ``` </br>\n",
        "If you do not, explain how you know that rescaling is not necessary. </br>\n",
        "Here you will begin to add convolutional layers [Conv2D](https://www.tensorflow.org/api_docs/python/tf/keras/layers/Conv2D) as well as [max pooling 2D](https://www.tensorflow.org/api_docs/python/tf/keras/layers/MaxPooling2D). You typically want to do max pooling when you change the shape of your conv2d. Max pooling will focus on the most informative features and reduce the memory footprint </br>\n",
        "This also requires reshaping form 1D to 2D. Hint: Look at the plotting fxn\n",
        "```\n",
        "model.add(Conv2D(32, kernel_size=3, activation='leakyrelu', input_shape=(64, 64, 3)))\n",
        "model.add(MaxPooling2D())\n",
        "```\n",
        "Make sure you [flatten](https://www.tensorflow.org/api_docs/python/tf/keras/layers/Flatten) before going back into 1D\n",
        "Make sure your ouput layer performs a binary output for a class kitten and class not kitten\n",
        "```\n",
        "model.add(Flatten())\n",
        "```\n",
        "After you flatten, you can add your dense layers once again. </br></br>\n",
        "<em> Note: As noted above, you will have to convert your 1D array back into a 2D array prior to running your convolutional NN. Hint: Look at your plotting function down below!!! </em>"
      ]
    },
    {
      "cell_type": "markdown",
      "metadata": {
        "id": "OvBWlYZhPLL9"
      },
      "source": [
        "**Answer:**"
      ]
    },
    {
      "cell_type": "code",
      "execution_count": null,
      "metadata": {
        "id": "dVYjQT00stLx"
      },
      "outputs": [],
      "source": []
    },
    {
      "cell_type": "markdown",
      "metadata": {
        "id": "4DMjtOg5BJEl"
      },
      "source": [
        "Prediction step. Make sure you use ```yhat_train``` and ```yhat_test``` variable names for your predictions!"
      ]
    },
    {
      "cell_type": "code",
      "execution_count": null,
      "metadata": {
        "id": "quVIixdFBRVf"
      },
      "outputs": [],
      "source": [
        "yhat_train = [0]*50 # change me\n",
        "yhat_test = [0]*50 # change me"
      ]
    },
    {
      "cell_type": "markdown",
      "metadata": {
        "id": "Lmp8LC30Ynak"
      },
      "source": [
        "### 3.2) Calculate your accuracy (10 points)\n",
        "Here you will use both your classification report and your confusion matrix. </br>\n",
        "Later you will be asked to calculate values manually. You are welcome to pull values from your reports."
      ]
    },
    {
      "cell_type": "code",
      "execution_count": null,
      "metadata": {
        "id": "G7xQi21-Ynak"
      },
      "outputs": [],
      "source": [
        "# Hint! Use the predict function and threshold your results. 0.5 is reasonable.\n",
        "# In your classification report since we are only predicting cats you will need to set the parameter labels\n",
        "# labels=np.unique(yhat_test)"
      ]
    },
    {
      "cell_type": "markdown",
      "metadata": {
        "id": "vf_Khwq1Ynak"
      },
      "source": [
        "### 3.3) Calculate your precision and recall manually as done in SA1. You cannot use values from your classification report or confusion matrix (10 points)"
      ]
    },
    {
      "cell_type": "code",
      "execution_count": null,
      "metadata": {
        "id": "g8BpIv03Ynal"
      },
      "outputs": [],
      "source": [
        "# Recall calculation"
      ]
    },
    {
      "cell_type": "code",
      "execution_count": null,
      "metadata": {
        "id": "BriMkolotghk"
      },
      "outputs": [],
      "source": [
        "# Precision calculation"
      ]
    },
    {
      "cell_type": "markdown",
      "metadata": {
        "id": "n3E_cvZbkb_o"
      },
      "source": [
        "### Let's plot!!!"
      ]
    },
    {
      "cell_type": "code",
      "execution_count": null,
      "metadata": {
        "id": "rq71-Hdnke1W"
      },
      "outputs": [],
      "source": [
        "n = 3 # number of images to print\n",
        "imgs = X_test.reshape([50, 64, 64, 3]) # here we reshape our images so that they are 2D again\n",
        "fig, ax = plt.subplots(1, n, figsize=(16,8))\n",
        "for ix in range(n):\n",
        "    num = np.random.randint(imgs.shape[0]) # randomly selects from 51 images\n",
        "    ax[ix].imshow(imgs[num])\n",
        "    if yhat_test[num] == 0:\n",
        "        ax[ix].set_title('This is clearly not a cat')\n",
        "    else:\n",
        "        ax[ix].set_title('Yup! it\\'s a cat')"
      ]
    },
    {
      "cell_type": "markdown",
      "metadata": {
        "id": "z0ja7ns_Ynan"
      },
      "source": [
        "## 4) Collaborative Statement (5 points)\n",
        "#### You must fill this out even if you worked alone to get credit.\n",
        "\n",
        "It is mandatory to include a Statement of Collaboration in each submission, that follows the guidelines below.\n",
        "Include the names of everyone involved in the discussions (especially in-person ones), and what was discussed.\n",
        "All students are required to follow the academic honesty guidelines posted on the course website. For\n",
        "programming assignments in particular, I encourage students to organize (perhaps using Piazza) to discuss the\n",
        "task descriptions, requirements, possible bugs in the support code, and the relevant technical content before they\n",
        "start working on it. However, you should not discuss the specific solutions, and as a guiding principle, you are\n",
        "not allowed to take anything written or drawn away from these discussions (no photographs of the blackboard,\n",
        "written notes, referring to Piazza, etc.). Especially after you have started working on the assignment, try to restrict\n",
        "the discussion to Piazza as much as possible, so that there is no doubt as to the extent of your collaboration.\n",
        "\n",
        "Even if you did not use any outside resources or collaborate with anyone, please state that explicitly in the space below."
      ]
    },
    {
      "cell_type": "markdown",
      "metadata": {
        "id": "bC4SnF_7Ynal"
      },
      "source": [
        "## Round up!"
      ]
    },
    {
      "cell_type": "markdown",
      "metadata": {
        "id": "Ba-yJKQIYnal"
      },
      "source": [
        "I hope you all had fun, writing your own ANN. In my opinon, writing these things from the ground up is the best way to learn how it actually works. I hope that you see that these systems are not magical, but simple matrix multiplications, unfortunately just a very lot of them. The most difficult part is of course the back propagation, where we need to calculate the gradients. Our simple ANNs are quite doable, but adding more different layers to them, can make it a bit more cumbersome. Still the essence is very similar to what we have done today.\n",
        "\n",
        "My suggestion is to play around with these structures, rewrite parts of them, or even better, write your own from scratch!\n"
      ]
    },
    {
      "cell_type": "markdown",
      "metadata": {
        "id": "NJkBdpHDYnal"
      },
      "source": [
        "Please let me know if you have any comments!"
      ]
    },
    {
      "cell_type": "code",
      "execution_count": null,
      "metadata": {
        "id": "oo5nI67mYnal"
      },
      "outputs": [],
      "source": []
    },
    {
      "cell_type": "markdown",
      "metadata": {
        "id": "xUZ99lNyYnal"
      },
      "source": [
        "## Apendix: For your reference"
      ]
    },
    {
      "cell_type": "markdown",
      "metadata": {
        "id": "Pc0AoxY_Ynal"
      },
      "source": [
        "### Generating Rose Data"
      ]
    },
    {
      "cell_type": "code",
      "execution_count": null,
      "metadata": {
        "id": "vNcaQgjQYnal"
      },
      "outputs": [],
      "source": [
        "def generateRoseData():\n",
        "    k=7\n",
        "    pointPerPetal = 100\n",
        "    cutOff = 0.1\n",
        "    r = 4\n",
        "\n",
        "    theta = np.linspace(0,np.pi, pointPerPetal * k)\n",
        "    xx = r * np.cos(k * theta) * np.cos(theta)\n",
        "    yy = r * np.cos(k * theta) * np.sin(theta)\n",
        "    cc = [np.ones(pointPerPetal) if ix % 3 == 0 else np.zeros(pointPerPetal) for ix in np.arange(k)]\n",
        "    cc = np.roll(np.hstack(cc).astype(np.uint8), -pointPerPetal//2)\n",
        "    x = xx[(xx**2 + yy**2)**0.5 > cutOff]\n",
        "    y = yy[(xx**2 + yy**2)**0.5 > cutOff]\n",
        "    col = cc[(xx**2 + yy**2)**0.5 > cutOff]\n",
        "    X = np.vstack([x,y])\n",
        "    Y = np.copy(col).reshape([1, -1])\n",
        "    return X, Y\n",
        "X, Y = generateRoseData()\n",
        "np.savez_compressed('./data/rose/rose.npz', X=X, Y=Y)"
      ]
    },
    {
      "cell_type": "code",
      "execution_count": null,
      "metadata": {
        "id": "Rq4YAjRgYnam"
      },
      "outputs": [],
      "source": []
    },
    {
      "cell_type": "markdown",
      "metadata": {
        "id": "cBlwWwKQYnam"
      },
      "source": [
        "### Processing Andrews CatvNotCat data"
      ]
    },
    {
      "cell_type": "code",
      "execution_count": null,
      "metadata": {
        "id": "2lkHWbzVYnam"
      },
      "outputs": [],
      "source": [
        "# If you get an error here, install h5py via pip3 install h5py\n",
        "import h5py"
      ]
    },
    {
      "cell_type": "code",
      "execution_count": null,
      "metadata": {
        "id": "HUyH9EvUYnam"
      },
      "outputs": [],
      "source": [
        "# Data downloaded from:\n",
        "# https://github.com/ridhimagarg/Cat-vs-Non-cat-Deep-learning-implementation\n",
        "def processCatData():\n",
        "    train_dataset = h5py.File(\"./data/cats/train_catvnoncat.h5\", mode='r')\n",
        "    Xtrain = np.array(train_dataset[\"train_set_x\"])\n",
        "    Y_train = np.array(train_dataset[\"train_set_y\"])\n",
        "    test_dataset = h5py.File(\"./data/cats/test_catvnoncat.h5\", mode='r')\n",
        "    Xtest = np.array(test_dataset[\"test_set_x\"])\n",
        "    Y_test = np.array(test_dataset[\"test_set_y\"])\n",
        "    X_train = Xtrain / 255\n",
        "    X_test = Xtest / 255\n",
        "    X_train = X_train.reshape(209, -1).T\n",
        "    Y_train = Y_train.reshape(-1, 209)\n",
        "    X_test = X_test.reshape(50, -1).T\n",
        "    Y_test = Y_test.reshape(-1, 50)\n",
        "    return X_train, X_test, Y_train, Y_test\n",
        "Xtrain, Xtest, Ytrain, Ytest = processCatData()\n",
        "np.savez_compressed('./data/cats/cats.npz', Xtrain=Xtrain, Xtest=Xtest, Ytrain=Ytrain, Ytest=Ytest)"
      ]
    },
    {
      "cell_type": "code",
      "execution_count": null,
      "metadata": {
        "id": "cofYYytwRk5Q"
      },
      "outputs": [],
      "source": []
    },
    {
      "cell_type": "markdown",
      "metadata": {
        "id": "iy2XhQSoYnan"
      },
      "source": [
        "# Credits\n",
        "#### Edwin Solares - Updates to Questions and Dataset, Conversion to google colab, conversion to Tensorflow and Keras and preprocessing data to work with Keras.\n",
        "https://linkedin.com/in/dennisbakhuis/ \\\n",
        "https://github.com/dennisbakhuis\n"
      ]
    }
  ],
  "metadata": {
    "colab": {
      "provenance": [],
      "include_colab_link": true
    },
    "kernelspec": {
      "display_name": "Python 3 (ipykernel)",
      "language": "python",
      "name": "python3"
    },
    "language_info": {
      "codemirror_mode": {
        "name": "ipython",
        "version": 3
      },
      "file_extension": ".py",
      "mimetype": "text/x-python",
      "name": "python",
      "nbconvert_exporter": "python",
      "pygments_lexer": "ipython3",
      "version": "3.8.10"
    }
  },
  "nbformat": 4,
  "nbformat_minor": 0
}